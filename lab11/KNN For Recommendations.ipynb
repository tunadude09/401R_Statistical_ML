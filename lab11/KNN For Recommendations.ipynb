{
 "cells": [
  {
   "cell_type": "code",
   "execution_count": 1,
   "metadata": {
    "collapsed": false
   },
   "outputs": [
    {
     "name": "stderr",
     "output_type": "stream",
     "text": [
      "C:\\Anaconda3\\lib\\site-packages\\matplotlib\\__init__.py:872: UserWarning: axes.color_cycle is deprecated and replaced with axes.prop_cycle; please use the latter.\n",
      "  warnings.warn(self.msg_depr % (key, alt_key))\n"
     ]
    }
   ],
   "source": [
    "import numpy as np\n",
    "import scipy as scp\n",
    "import matplotlib.pyplot as plt\n",
    "import pandas as pd\n",
    "import sklearn as skl\n",
    "import seaborn\n",
    "\n",
    "\n",
    "%matplotlib inline"
   ]
  },
  {
   "cell_type": "markdown",
   "metadata": {},
   "source": [
    "# Load Data"
   ]
  },
  {
   "cell_type": "code",
   "execution_count": 38,
   "metadata": {
    "collapsed": false
   },
   "outputs": [],
   "source": [
    "user_ratings = pd.read_csv('lib/movie_training_data/user_ratedmovies_train.dat','\\t')\n",
    "# movie_actors = pandas.read_csv('lib/movie_training_data/movie_actors.dat','\\t')\n",
    "movie_countries = pd.read_csv('lib/movie_training_data/movie_countries.dat','\\t')\n",
    "# movie_directors = pandas.read_csv('lib/movie_training_data/movie_directors.dat','\\t')\n",
    "movie_genres = pd.read_csv('lib/movie_training_data/movie_genres.dat','\\t')\n",
    "# movie_locations = pandas.read_csv('lib/movie_training_data/movie_locations.dat','\\t')\n",
    "movie_tags = pd.read_csv('lib/movie_training_data/movie_tags.dat','\\t')\n",
    "# movies = pandas.read_csv('lib/movie_training_data/movies.dat','\\t')\n",
    "# tags = pandas.read_csv('lib/movie_training_data/tags.dat','\\t')\n",
    "# user_tagged_movies = pandas.read_csv('lib/movie_training_data/user_tagged_movies.dat','\\t')\n",
    "predictions = pd.read_csv('lib/predictions.dat', '\\t')"
   ]
  },
  {
   "cell_type": "code",
   "execution_count": 3,
   "metadata": {
    "collapsed": false
   },
   "outputs": [],
   "source": [
    "\n",
    " \n",
    "# ur = pandas.read_csv('lib/movie_training_data/user_ratedmovies_train.dat','\\t')\n",
    " \n",
    "# plt.hist( ur['rating'] )\n",
    " \n",
    "# create a test/train split\n",
    " \n",
    "all_inds = np.random.permutation( range(0,len(user_ratings)) )\n",
    "test_inds = all_inds[0:85000]\n",
    "train_inds = all_inds[85000:len(user_ratings)]\n",
    " \n",
    "user_ratings_test = user_ratings.iloc[ test_inds ]\n",
    "user_ratings_train = user_ratings.iloc[ train_inds ]"
   ]
  },
  {
   "cell_type": "markdown",
   "metadata": {},
   "source": [
    "#  Exploration"
   ]
  },
  {
   "cell_type": "code",
   "execution_count": 4,
   "metadata": {
    "collapsed": false
   },
   "outputs": [
    {
     "data": {
      "text/html": [
       "<div>\n",
       "<table border=\"1\" class=\"dataframe\">\n",
       "  <thead>\n",
       "    <tr style=\"text-align: right;\">\n",
       "      <th></th>\n",
       "      <th>Unnamed: 0</th>\n",
       "      <th>userID</th>\n",
       "      <th>movieID</th>\n",
       "      <th>rating</th>\n",
       "      <th>date_day</th>\n",
       "      <th>date_month</th>\n",
       "      <th>date_year</th>\n",
       "      <th>date_hour</th>\n",
       "      <th>date_minute</th>\n",
       "      <th>date_second</th>\n",
       "    </tr>\n",
       "  </thead>\n",
       "  <tbody>\n",
       "    <tr>\n",
       "      <th>122906</th>\n",
       "      <td>812061</td>\n",
       "      <td>68393</td>\n",
       "      <td>1281</td>\n",
       "      <td>3.0</td>\n",
       "      <td>17</td>\n",
       "      <td>11</td>\n",
       "      <td>2005</td>\n",
       "      <td>8</td>\n",
       "      <td>55</td>\n",
       "      <td>19</td>\n",
       "    </tr>\n",
       "    <tr>\n",
       "      <th>213446</th>\n",
       "      <td>777897</td>\n",
       "      <td>65293</td>\n",
       "      <td>1784</td>\n",
       "      <td>4.5</td>\n",
       "      <td>25</td>\n",
       "      <td>3</td>\n",
       "      <td>2004</td>\n",
       "      <td>7</td>\n",
       "      <td>0</td>\n",
       "      <td>36</td>\n",
       "    </tr>\n",
       "    <tr>\n",
       "      <th>132770</th>\n",
       "      <td>678129</td>\n",
       "      <td>55865</td>\n",
       "      <td>4901</td>\n",
       "      <td>3.0</td>\n",
       "      <td>27</td>\n",
       "      <td>2</td>\n",
       "      <td>2008</td>\n",
       "      <td>18</td>\n",
       "      <td>39</td>\n",
       "      <td>59</td>\n",
       "    </tr>\n",
       "    <tr>\n",
       "      <th>245163</th>\n",
       "      <td>695158</td>\n",
       "      <td>57512</td>\n",
       "      <td>2706</td>\n",
       "      <td>3.5</td>\n",
       "      <td>29</td>\n",
       "      <td>9</td>\n",
       "      <td>2005</td>\n",
       "      <td>22</td>\n",
       "      <td>31</td>\n",
       "      <td>5</td>\n",
       "    </tr>\n",
       "    <tr>\n",
       "      <th>118040</th>\n",
       "      <td>344248</td>\n",
       "      <td>28199</td>\n",
       "      <td>6238</td>\n",
       "      <td>4.0</td>\n",
       "      <td>29</td>\n",
       "      <td>10</td>\n",
       "      <td>2008</td>\n",
       "      <td>9</td>\n",
       "      <td>20</td>\n",
       "      <td>3</td>\n",
       "    </tr>\n",
       "  </tbody>\n",
       "</table>\n",
       "</div>"
      ],
      "text/plain": [
       "        Unnamed: 0  userID  movieID  rating  date_day  date_month  date_year  \\\n",
       "122906      812061   68393     1281     3.0        17          11       2005   \n",
       "213446      777897   65293     1784     4.5        25           3       2004   \n",
       "132770      678129   55865     4901     3.0        27           2       2008   \n",
       "245163      695158   57512     2706     3.5        29           9       2005   \n",
       "118040      344248   28199     6238     4.0        29          10       2008   \n",
       "\n",
       "        date_hour  date_minute  date_second  \n",
       "122906          8           55           19  \n",
       "213446          7            0           36  \n",
       "132770         18           39           59  \n",
       "245163         22           31            5  \n",
       "118040          9           20            3  "
      ]
     },
     "execution_count": 4,
     "metadata": {},
     "output_type": "execute_result"
    }
   ],
   "source": [
    "user_ratings_train.head()"
   ]
  },
  {
   "cell_type": "code",
   "execution_count": 5,
   "metadata": {
    "collapsed": false
   },
   "outputs": [
    {
     "name": "stdout",
     "output_type": "stream",
     "text": [
      "<class 'pandas.core.frame.DataFrame'>\n",
      "Int64Index: 685598 entries, 122906 to 749505\n",
      "Data columns (total 10 columns):\n",
      "Unnamed: 0     685598 non-null int64\n",
      "userID         685598 non-null int64\n",
      "movieID        685598 non-null int64\n",
      "rating         685598 non-null float64\n",
      "date_day       685598 non-null int64\n",
      "date_month     685598 non-null int64\n",
      "date_year      685598 non-null int64\n",
      "date_hour      685598 non-null int64\n",
      "date_minute    685598 non-null int64\n",
      "date_second    685598 non-null int64\n",
      "dtypes: float64(1), int64(9)\n",
      "memory usage: 57.5 MB\n"
     ]
    }
   ],
   "source": [
    "user_ratings_train.info()"
   ]
  },
  {
   "cell_type": "code",
   "execution_count": 6,
   "metadata": {
    "collapsed": false
   },
   "outputs": [
    {
     "data": {
      "text/html": [
       "<div>\n",
       "<table border=\"1\" class=\"dataframe\">\n",
       "  <thead>\n",
       "    <tr style=\"text-align: right;\">\n",
       "      <th></th>\n",
       "      <th>Unnamed: 0</th>\n",
       "      <th>userID</th>\n",
       "      <th>movieID</th>\n",
       "      <th>rating</th>\n",
       "      <th>date_day</th>\n",
       "      <th>date_month</th>\n",
       "      <th>date_year</th>\n",
       "      <th>date_hour</th>\n",
       "      <th>date_minute</th>\n",
       "      <th>date_second</th>\n",
       "    </tr>\n",
       "  </thead>\n",
       "  <tbody>\n",
       "    <tr>\n",
       "      <th>count</th>\n",
       "      <td>685598.000000</td>\n",
       "      <td>685598.000000</td>\n",
       "      <td>685598.000000</td>\n",
       "      <td>685598.000000</td>\n",
       "      <td>685598.000000</td>\n",
       "      <td>685598.000000</td>\n",
       "      <td>685598.000000</td>\n",
       "      <td>685598.000000</td>\n",
       "      <td>685598.000000</td>\n",
       "      <td>685598.000000</td>\n",
       "    </tr>\n",
       "    <tr>\n",
       "      <th>mean</th>\n",
       "      <td>427976.898696</td>\n",
       "      <td>35205.473722</td>\n",
       "      <td>8705.133397</td>\n",
       "      <td>3.438336</td>\n",
       "      <td>15.565652</td>\n",
       "      <td>6.540820</td>\n",
       "      <td>2005.322730</td>\n",
       "      <td>12.130966</td>\n",
       "      <td>29.638622</td>\n",
       "      <td>29.503536</td>\n",
       "    </tr>\n",
       "    <tr>\n",
       "      <th>std</th>\n",
       "      <td>247029.940151</td>\n",
       "      <td>20388.543909</td>\n",
       "      <td>14437.661239</td>\n",
       "      <td>1.002415</td>\n",
       "      <td>8.952757</td>\n",
       "      <td>3.505207</td>\n",
       "      <td>2.282954</td>\n",
       "      <td>7.596043</td>\n",
       "      <td>17.273874</td>\n",
       "      <td>17.301642</td>\n",
       "    </tr>\n",
       "    <tr>\n",
       "      <th>min</th>\n",
       "      <td>0.000000</td>\n",
       "      <td>75.000000</td>\n",
       "      <td>1.000000</td>\n",
       "      <td>0.500000</td>\n",
       "      <td>1.000000</td>\n",
       "      <td>1.000000</td>\n",
       "      <td>1997.000000</td>\n",
       "      <td>0.000000</td>\n",
       "      <td>0.000000</td>\n",
       "      <td>0.000000</td>\n",
       "    </tr>\n",
       "    <tr>\n",
       "      <th>25%</th>\n",
       "      <td>213925.500000</td>\n",
       "      <td>18161.000000</td>\n",
       "      <td>1359.000000</td>\n",
       "      <td>3.000000</td>\n",
       "      <td>8.000000</td>\n",
       "      <td>4.000000</td>\n",
       "      <td>2004.000000</td>\n",
       "      <td>5.000000</td>\n",
       "      <td>15.000000</td>\n",
       "      <td>15.000000</td>\n",
       "    </tr>\n",
       "    <tr>\n",
       "      <th>50%</th>\n",
       "      <td>428057.500000</td>\n",
       "      <td>33880.000000</td>\n",
       "      <td>3249.000000</td>\n",
       "      <td>3.500000</td>\n",
       "      <td>15.000000</td>\n",
       "      <td>7.000000</td>\n",
       "      <td>2006.000000</td>\n",
       "      <td>13.000000</td>\n",
       "      <td>30.000000</td>\n",
       "      <td>30.000000</td>\n",
       "    </tr>\n",
       "    <tr>\n",
       "      <th>75%</th>\n",
       "      <td>642027.500000</td>\n",
       "      <td>52004.000000</td>\n",
       "      <td>6534.000000</td>\n",
       "      <td>4.000000</td>\n",
       "      <td>23.000000</td>\n",
       "      <td>10.000000</td>\n",
       "      <td>2007.000000</td>\n",
       "      <td>19.000000</td>\n",
       "      <td>45.000000</td>\n",
       "      <td>44.000000</td>\n",
       "    </tr>\n",
       "    <tr>\n",
       "      <th>max</th>\n",
       "      <td>855597.000000</td>\n",
       "      <td>71534.000000</td>\n",
       "      <td>65133.000000</td>\n",
       "      <td>5.000000</td>\n",
       "      <td>31.000000</td>\n",
       "      <td>12.000000</td>\n",
       "      <td>2009.000000</td>\n",
       "      <td>23.000000</td>\n",
       "      <td>59.000000</td>\n",
       "      <td>59.000000</td>\n",
       "    </tr>\n",
       "  </tbody>\n",
       "</table>\n",
       "</div>"
      ],
      "text/plain": [
       "          Unnamed: 0         userID        movieID         rating  \\\n",
       "count  685598.000000  685598.000000  685598.000000  685598.000000   \n",
       "mean   427976.898696   35205.473722    8705.133397       3.438336   \n",
       "std    247029.940151   20388.543909   14437.661239       1.002415   \n",
       "min         0.000000      75.000000       1.000000       0.500000   \n",
       "25%    213925.500000   18161.000000    1359.000000       3.000000   \n",
       "50%    428057.500000   33880.000000    3249.000000       3.500000   \n",
       "75%    642027.500000   52004.000000    6534.000000       4.000000   \n",
       "max    855597.000000   71534.000000   65133.000000       5.000000   \n",
       "\n",
       "            date_day     date_month      date_year      date_hour  \\\n",
       "count  685598.000000  685598.000000  685598.000000  685598.000000   \n",
       "mean       15.565652       6.540820    2005.322730      12.130966   \n",
       "std         8.952757       3.505207       2.282954       7.596043   \n",
       "min         1.000000       1.000000    1997.000000       0.000000   \n",
       "25%         8.000000       4.000000    2004.000000       5.000000   \n",
       "50%        15.000000       7.000000    2006.000000      13.000000   \n",
       "75%        23.000000      10.000000    2007.000000      19.000000   \n",
       "max        31.000000      12.000000    2009.000000      23.000000   \n",
       "\n",
       "         date_minute    date_second  \n",
       "count  685598.000000  685598.000000  \n",
       "mean       29.638622      29.503536  \n",
       "std        17.273874      17.301642  \n",
       "min         0.000000       0.000000  \n",
       "25%        15.000000      15.000000  \n",
       "50%        30.000000      30.000000  \n",
       "75%        45.000000      44.000000  \n",
       "max        59.000000      59.000000  "
      ]
     },
     "execution_count": 6,
     "metadata": {},
     "output_type": "execute_result"
    }
   ],
   "source": [
    "user_ratings_train.describe()"
   ]
  },
  {
   "cell_type": "code",
   "execution_count": 7,
   "metadata": {
    "collapsed": false
   },
   "outputs": [
    {
     "data": {
      "text/plain": [
       "array([[<matplotlib.axes._subplots.AxesSubplot object at 0x00000222B08CACC0>,\n",
       "        <matplotlib.axes._subplots.AxesSubplot object at 0x00000222B0C53EB8>,\n",
       "        <matplotlib.axes._subplots.AxesSubplot object at 0x00000222B0C96F28>],\n",
       "       [<matplotlib.axes._subplots.AxesSubplot object at 0x00000222B0D126A0>,\n",
       "        <matplotlib.axes._subplots.AxesSubplot object at 0x00000222B0D4D9E8>,\n",
       "        <matplotlib.axes._subplots.AxesSubplot object at 0x00000222B110D278>],\n",
       "       [<matplotlib.axes._subplots.AxesSubplot object at 0x00000222B1154D68>,\n",
       "        <matplotlib.axes._subplots.AxesSubplot object at 0x00000222B18C2B00>,\n",
       "        <matplotlib.axes._subplots.AxesSubplot object at 0x00000222B190FC18>],\n",
       "       [<matplotlib.axes._subplots.AxesSubplot object at 0x00000222B194A6A0>,\n",
       "        <matplotlib.axes._subplots.AxesSubplot object at 0x00000222B1997128>,\n",
       "        <matplotlib.axes._subplots.AxesSubplot object at 0x00000222B19D6160>]], dtype=object)"
      ]
     },
     "execution_count": 7,
     "metadata": {},
     "output_type": "execute_result"
    },
    {
     "data": {
      "image/png": "[encoded data removed]",
      "text/plain": [
       "<matplotlib.figure.Figure at 0x222b0891b70>"
      ]
     },
     "metadata": {},
     "output_type": "display_data"
    }
   ],
   "source": [
    "user_ratings_train.hist(figsize=(20,10))"
   ]
  },
  {
   "cell_type": "code",
   "execution_count": 8,
   "metadata": {
    "collapsed": false
   },
   "outputs": [
    {
     "data": {
      "text/html": [
       "<div>\n",
       "<table border=\"1\" class=\"dataframe\">\n",
       "  <thead>\n",
       "    <tr style=\"text-align: right;\">\n",
       "      <th></th>\n",
       "      <th>movieID</th>\n",
       "      <th>country</th>\n",
       "    </tr>\n",
       "  </thead>\n",
       "  <tbody>\n",
       "    <tr>\n",
       "      <th>0</th>\n",
       "      <td>1</td>\n",
       "      <td>USA</td>\n",
       "    </tr>\n",
       "    <tr>\n",
       "      <th>1</th>\n",
       "      <td>2</td>\n",
       "      <td>USA</td>\n",
       "    </tr>\n",
       "    <tr>\n",
       "      <th>2</th>\n",
       "      <td>3</td>\n",
       "      <td>USA</td>\n",
       "    </tr>\n",
       "    <tr>\n",
       "      <th>3</th>\n",
       "      <td>4</td>\n",
       "      <td>USA</td>\n",
       "    </tr>\n",
       "    <tr>\n",
       "      <th>4</th>\n",
       "      <td>5</td>\n",
       "      <td>USA</td>\n",
       "    </tr>\n",
       "  </tbody>\n",
       "</table>\n",
       "</div>"
      ],
      "text/plain": [
       "   movieID country\n",
       "0        1     USA\n",
       "1        2     USA\n",
       "2        3     USA\n",
       "3        4     USA\n",
       "4        5     USA"
      ]
     },
     "execution_count": 8,
     "metadata": {},
     "output_type": "execute_result"
    }
   ],
   "source": [
    "movie_countries.head()"
   ]
  },
  {
   "cell_type": "code",
   "execution_count": 9,
   "metadata": {
    "collapsed": false
   },
   "outputs": [
    {
     "name": "stdout",
     "output_type": "stream",
     "text": [
      "<class 'pandas.core.frame.DataFrame'>\n",
      "Int64Index: 10197 entries, 0 to 10196\n",
      "Data columns (total 2 columns):\n",
      "movieID    10197 non-null int64\n",
      "country    10189 non-null object\n",
      "dtypes: int64(1), object(1)\n",
      "memory usage: 239.0+ KB\n"
     ]
    }
   ],
   "source": [
    "movie_countries.info()"
   ]
  },
  {
   "cell_type": "code",
   "execution_count": 10,
   "metadata": {
    "collapsed": false
   },
   "outputs": [
    {
     "data": {
      "text/plain": [
       "<matplotlib.axes._subplots.AxesSubplot at 0x222b267cf98>"
      ]
     },
     "execution_count": 10,
     "metadata": {},
     "output_type": "execute_result"
    },
    {
     "data": {
      "image/png": "[encoded data removed]",
      "text/plain": [
       "<matplotlib.figure.Figure at 0x222b2697630>"
      ]
     },
     "metadata": {},
     "output_type": "display_data"
    }
   ],
   "source": [
    "movie_countries.country.value_counts().plot(kind='bar', figsize=(20,10))"
   ]
  },
  {
   "cell_type": "code",
   "execution_count": 11,
   "metadata": {
    "collapsed": false
   },
   "outputs": [
    {
     "data": {
      "text/html": [
       "<div>\n",
       "<table border=\"1\" class=\"dataframe\">\n",
       "  <thead>\n",
       "    <tr style=\"text-align: right;\">\n",
       "      <th></th>\n",
       "      <th>movieID</th>\n",
       "      <th>genre</th>\n",
       "    </tr>\n",
       "  </thead>\n",
       "  <tbody>\n",
       "    <tr>\n",
       "      <th>0</th>\n",
       "      <td>1</td>\n",
       "      <td>Adventure</td>\n",
       "    </tr>\n",
       "    <tr>\n",
       "      <th>1</th>\n",
       "      <td>1</td>\n",
       "      <td>Animation</td>\n",
       "    </tr>\n",
       "    <tr>\n",
       "      <th>2</th>\n",
       "      <td>1</td>\n",
       "      <td>Children</td>\n",
       "    </tr>\n",
       "    <tr>\n",
       "      <th>3</th>\n",
       "      <td>1</td>\n",
       "      <td>Comedy</td>\n",
       "    </tr>\n",
       "    <tr>\n",
       "      <th>4</th>\n",
       "      <td>1</td>\n",
       "      <td>Fantasy</td>\n",
       "    </tr>\n",
       "  </tbody>\n",
       "</table>\n",
       "</div>"
      ],
      "text/plain": [
       "   movieID      genre\n",
       "0        1  Adventure\n",
       "1        1  Animation\n",
       "2        1   Children\n",
       "3        1     Comedy\n",
       "4        1    Fantasy"
      ]
     },
     "execution_count": 11,
     "metadata": {},
     "output_type": "execute_result"
    }
   ],
   "source": [
    "movie_genres.head()"
   ]
  },
  {
   "cell_type": "code",
   "execution_count": 12,
   "metadata": {
    "collapsed": false
   },
   "outputs": [
    {
     "name": "stdout",
     "output_type": "stream",
     "text": [
      "<class 'pandas.core.frame.DataFrame'>\n",
      "Int64Index: 20809 entries, 0 to 20808\n",
      "Data columns (total 2 columns):\n",
      "movieID    20809 non-null int64\n",
      "genre      20809 non-null object\n",
      "dtypes: int64(1), object(1)\n",
      "memory usage: 487.7+ KB\n"
     ]
    }
   ],
   "source": [
    "movie_genres.info()"
   ]
  },
  {
   "cell_type": "code",
   "execution_count": 13,
   "metadata": {
    "collapsed": false
   },
   "outputs": [
    {
     "data": {
      "text/plain": [
       "<matplotlib.axes._subplots.AxesSubplot at 0x222b265eac8>"
      ]
     },
     "execution_count": 13,
     "metadata": {},
     "output_type": "execute_result"
    },
    {
     "data": {
      "image/png": "[encoded data removed]",
      "text/plain": [
       "<matplotlib.figure.Figure at 0x222b1d4c240>"
      ]
     },
     "metadata": {},
     "output_type": "display_data"
    }
   ],
   "source": [
    "movie_genres.genre.value_counts().plot(kind='bar', figsize=(20,10))"
   ]
  },
  {
   "cell_type": "code",
   "execution_count": 14,
   "metadata": {
    "collapsed": false
   },
   "outputs": [
    {
     "data": {
      "text/html": [
       "<div>\n",
       "<table border=\"1\" class=\"dataframe\">\n",
       "  <thead>\n",
       "    <tr style=\"text-align: right;\">\n",
       "      <th></th>\n",
       "      <th>movieID</th>\n",
       "      <th>tagID</th>\n",
       "      <th>tagWeight</th>\n",
       "    </tr>\n",
       "  </thead>\n",
       "  <tbody>\n",
       "    <tr>\n",
       "      <th>0</th>\n",
       "      <td>1</td>\n",
       "      <td>7</td>\n",
       "      <td>1</td>\n",
       "    </tr>\n",
       "    <tr>\n",
       "      <th>1</th>\n",
       "      <td>1</td>\n",
       "      <td>13</td>\n",
       "      <td>3</td>\n",
       "    </tr>\n",
       "    <tr>\n",
       "      <th>2</th>\n",
       "      <td>1</td>\n",
       "      <td>25</td>\n",
       "      <td>3</td>\n",
       "    </tr>\n",
       "    <tr>\n",
       "      <th>3</th>\n",
       "      <td>1</td>\n",
       "      <td>55</td>\n",
       "      <td>3</td>\n",
       "    </tr>\n",
       "    <tr>\n",
       "      <th>4</th>\n",
       "      <td>1</td>\n",
       "      <td>60</td>\n",
       "      <td>1</td>\n",
       "    </tr>\n",
       "  </tbody>\n",
       "</table>\n",
       "</div>"
      ],
      "text/plain": [
       "   movieID  tagID  tagWeight\n",
       "0        1      7          1\n",
       "1        1     13          3\n",
       "2        1     25          3\n",
       "3        1     55          3\n",
       "4        1     60          1"
      ]
     },
     "execution_count": 14,
     "metadata": {},
     "output_type": "execute_result"
    }
   ],
   "source": [
    "movie_tags.head()"
   ]
  },
  {
   "cell_type": "code",
   "execution_count": 15,
   "metadata": {
    "collapsed": false
   },
   "outputs": [
    {
     "name": "stdout",
     "output_type": "stream",
     "text": [
      "<class 'pandas.core.frame.DataFrame'>\n",
      "Int64Index: 51795 entries, 0 to 51794\n",
      "Data columns (total 3 columns):\n",
      "movieID      51795 non-null int64\n",
      "tagID        51795 non-null int64\n",
      "tagWeight    51795 non-null int64\n",
      "dtypes: int64(3)\n",
      "memory usage: 1.6 MB\n"
     ]
    }
   ],
   "source": [
    "movie_tags.info()"
   ]
  },
  {
   "cell_type": "code",
   "execution_count": 16,
   "metadata": {
    "collapsed": false
   },
   "outputs": [
    {
     "data": {
      "text/html": [
       "<div>\n",
       "<table border=\"1\" class=\"dataframe\">\n",
       "  <thead>\n",
       "    <tr style=\"text-align: right;\">\n",
       "      <th></th>\n",
       "      <th>movieID</th>\n",
       "      <th>tagID</th>\n",
       "      <th>tagWeight</th>\n",
       "    </tr>\n",
       "  </thead>\n",
       "  <tbody>\n",
       "    <tr>\n",
       "      <th>count</th>\n",
       "      <td>51795.000000</td>\n",
       "      <td>51795.000000</td>\n",
       "      <td>51795.000000</td>\n",
       "    </tr>\n",
       "    <tr>\n",
       "      <th>mean</th>\n",
       "      <td>12163.180307</td>\n",
       "      <td>4354.541307</td>\n",
       "      <td>1.381156</td>\n",
       "    </tr>\n",
       "    <tr>\n",
       "      <th>std</th>\n",
       "      <td>17135.997212</td>\n",
       "      <td>4157.625119</td>\n",
       "      <td>1.279396</td>\n",
       "    </tr>\n",
       "    <tr>\n",
       "      <th>min</th>\n",
       "      <td>1.000000</td>\n",
       "      <td>1.000000</td>\n",
       "      <td>1.000000</td>\n",
       "    </tr>\n",
       "    <tr>\n",
       "      <th>25%</th>\n",
       "      <td>1861.000000</td>\n",
       "      <td>775.000000</td>\n",
       "      <td>1.000000</td>\n",
       "    </tr>\n",
       "    <tr>\n",
       "      <th>50%</th>\n",
       "      <td>4399.000000</td>\n",
       "      <td>2738.000000</td>\n",
       "      <td>1.000000</td>\n",
       "    </tr>\n",
       "    <tr>\n",
       "      <th>75%</th>\n",
       "      <td>8494.000000</td>\n",
       "      <td>6800.000000</td>\n",
       "      <td>1.000000</td>\n",
       "    </tr>\n",
       "    <tr>\n",
       "      <th>max</th>\n",
       "      <td>65130.000000</td>\n",
       "      <td>16518.000000</td>\n",
       "      <td>42.000000</td>\n",
       "    </tr>\n",
       "  </tbody>\n",
       "</table>\n",
       "</div>"
      ],
      "text/plain": [
       "            movieID         tagID     tagWeight\n",
       "count  51795.000000  51795.000000  51795.000000\n",
       "mean   12163.180307   4354.541307      1.381156\n",
       "std    17135.997212   4157.625119      1.279396\n",
       "min        1.000000      1.000000      1.000000\n",
       "25%     1861.000000    775.000000      1.000000\n",
       "50%     4399.000000   2738.000000      1.000000\n",
       "75%     8494.000000   6800.000000      1.000000\n",
       "max    65130.000000  16518.000000     42.000000"
      ]
     },
     "execution_count": 16,
     "metadata": {},
     "output_type": "execute_result"
    }
   ],
   "source": [
    "movie_tags.describe()"
   ]
  },
  {
   "cell_type": "code",
   "execution_count": 17,
   "metadata": {
    "collapsed": false
   },
   "outputs": [
    {
     "data": {
      "text/plain": [
       "array([[<matplotlib.axes._subplots.AxesSubplot object at 0x00000222B26F8240>,\n",
       "        <matplotlib.axes._subplots.AxesSubplot object at 0x00000222B27BB6A0>],\n",
       "       [<matplotlib.axes._subplots.AxesSubplot object at 0x00000222B28064E0>,\n",
       "        <matplotlib.axes._subplots.AxesSubplot object at 0x00000222B28457F0>]], dtype=object)"
      ]
     },
     "execution_count": 17,
     "metadata": {},
     "output_type": "execute_result"
    },
    {
     "data": {
      "image/png": "[encoded data removed]",
      "text/plain": [
       "<matplotlib.figure.Figure at 0x222b18e8780>"
      ]
     },
     "metadata": {},
     "output_type": "display_data"
    }
   ],
   "source": [
    "movie_tags.hist()"
   ]
  },
  {
   "cell_type": "markdown",
   "metadata": {},
   "source": [
    "# Cleaning\n",
    "I'll use movie genre, movie country, and user ratings with KNN to predict unknown ratings, movie tags seem less helpful"
   ]
  },
  {
   "cell_type": "code",
   "execution_count": 18,
   "metadata": {
    "collapsed": false
   },
   "outputs": [
    {
     "data": {
      "text/html": [
       "<div>\n",
       "<table border=\"1\" class=\"dataframe\">\n",
       "  <thead>\n",
       "    <tr style=\"text-align: right;\">\n",
       "      <th></th>\n",
       "      <th>Unnamed: 0</th>\n",
       "      <th>userID</th>\n",
       "      <th>movieID</th>\n",
       "      <th>rating</th>\n",
       "      <th>date_day</th>\n",
       "      <th>date_month</th>\n",
       "      <th>date_year</th>\n",
       "      <th>date_hour</th>\n",
       "      <th>date_minute</th>\n",
       "      <th>date_second</th>\n",
       "    </tr>\n",
       "  </thead>\n",
       "  <tbody>\n",
       "    <tr>\n",
       "      <th>122906</th>\n",
       "      <td>812061</td>\n",
       "      <td>68393</td>\n",
       "      <td>1281</td>\n",
       "      <td>3</td>\n",
       "      <td>17</td>\n",
       "      <td>11</td>\n",
       "      <td>2005</td>\n",
       "      <td>8</td>\n",
       "      <td>55</td>\n",
       "      <td>19</td>\n",
       "    </tr>\n",
       "  </tbody>\n",
       "</table>\n",
       "</div>"
      ],
      "text/plain": [
       "        Unnamed: 0  userID  movieID  rating  date_day  date_month  date_year  \\\n",
       "122906      812061   68393     1281       3        17          11       2005   \n",
       "\n",
       "        date_hour  date_minute  date_second  \n",
       "122906          8           55           19  "
      ]
     },
     "execution_count": 18,
     "metadata": {},
     "output_type": "execute_result"
    }
   ],
   "source": [
    "user_ratings_train.head(1)"
   ]
  },
  {
   "cell_type": "code",
   "execution_count": 19,
   "metadata": {
    "collapsed": false
   },
   "outputs": [
    {
     "data": {
      "text/html": [
       "<div>\n",
       "<table border=\"1\" class=\"dataframe\">\n",
       "  <thead>\n",
       "    <tr style=\"text-align: right;\">\n",
       "      <th></th>\n",
       "      <th>movieID</th>\n",
       "      <th>country</th>\n",
       "    </tr>\n",
       "  </thead>\n",
       "  <tbody>\n",
       "    <tr>\n",
       "      <th>0</th>\n",
       "      <td>1</td>\n",
       "      <td>USA</td>\n",
       "    </tr>\n",
       "  </tbody>\n",
       "</table>\n",
       "</div>"
      ],
      "text/plain": [
       "   movieID country\n",
       "0        1     USA"
      ]
     },
     "execution_count": 19,
     "metadata": {},
     "output_type": "execute_result"
    }
   ],
   "source": [
    "movie_countries.head(1)\n"
   ]
  },
  {
   "cell_type": "code",
   "execution_count": 20,
   "metadata": {
    "collapsed": false
   },
   "outputs": [
    {
     "data": {
      "text/html": [
       "<div>\n",
       "<table border=\"1\" class=\"dataframe\">\n",
       "  <thead>\n",
       "    <tr style=\"text-align: right;\">\n",
       "      <th></th>\n",
       "      <th>movieID</th>\n",
       "      <th>genre</th>\n",
       "    </tr>\n",
       "  </thead>\n",
       "  <tbody>\n",
       "    <tr>\n",
       "      <th>0</th>\n",
       "      <td>1</td>\n",
       "      <td>Adventure</td>\n",
       "    </tr>\n",
       "  </tbody>\n",
       "</table>\n",
       "</div>"
      ],
      "text/plain": [
       "   movieID      genre\n",
       "0        1  Adventure"
      ]
     },
     "execution_count": 20,
     "metadata": {},
     "output_type": "execute_result"
    }
   ],
   "source": [
    "movie_genres.head(1)"
   ]
  },
  {
   "cell_type": "code",
   "execution_count": 21,
   "metadata": {
    "collapsed": true
   },
   "outputs": [],
   "source": [
    "combined_user_ratings_meta = pd.merge(\n",
    "                                    pd.merge(user_ratings_train, movie_countries, on='movieID', how='inner')  \n",
    "                                      , movie_genres, on='movieID', how='inner')"
   ]
  },
  {
   "cell_type": "code",
   "execution_count": 22,
   "metadata": {
    "collapsed": false
   },
   "outputs": [
    {
     "data": {
      "text/html": [
       "<div>\n",
       "<table border=\"1\" class=\"dataframe\">\n",
       "  <thead>\n",
       "    <tr style=\"text-align: right;\">\n",
       "      <th></th>\n",
       "      <th>Unnamed: 0</th>\n",
       "      <th>userID</th>\n",
       "      <th>movieID</th>\n",
       "      <th>rating</th>\n",
       "      <th>date_day</th>\n",
       "      <th>date_month</th>\n",
       "      <th>date_year</th>\n",
       "      <th>date_hour</th>\n",
       "      <th>date_minute</th>\n",
       "      <th>date_second</th>\n",
       "      <th>country</th>\n",
       "      <th>genre</th>\n",
       "    </tr>\n",
       "  </thead>\n",
       "  <tbody>\n",
       "    <tr>\n",
       "      <th>0</th>\n",
       "      <td>812061</td>\n",
       "      <td>68393</td>\n",
       "      <td>1281</td>\n",
       "      <td>3</td>\n",
       "      <td>17</td>\n",
       "      <td>11</td>\n",
       "      <td>2005</td>\n",
       "      <td>8</td>\n",
       "      <td>55</td>\n",
       "      <td>19</td>\n",
       "      <td>USA</td>\n",
       "      <td>Comedy</td>\n",
       "    </tr>\n",
       "    <tr>\n",
       "      <th>1</th>\n",
       "      <td>812061</td>\n",
       "      <td>68393</td>\n",
       "      <td>1281</td>\n",
       "      <td>3</td>\n",
       "      <td>17</td>\n",
       "      <td>11</td>\n",
       "      <td>2005</td>\n",
       "      <td>8</td>\n",
       "      <td>55</td>\n",
       "      <td>19</td>\n",
       "      <td>USA</td>\n",
       "      <td>Drama</td>\n",
       "    </tr>\n",
       "  </tbody>\n",
       "</table>\n",
       "</div>"
      ],
      "text/plain": [
       "   Unnamed: 0  userID  movieID  rating  date_day  date_month  date_year  \\\n",
       "0      812061   68393     1281       3        17          11       2005   \n",
       "1      812061   68393     1281       3        17          11       2005   \n",
       "\n",
       "   date_hour  date_minute  date_second country   genre  \n",
       "0          8           55           19     USA  Comedy  \n",
       "1          8           55           19     USA   Drama  "
      ]
     },
     "execution_count": 22,
     "metadata": {},
     "output_type": "execute_result"
    }
   ],
   "source": [
    "combined_user_ratings_meta.head(2)"
   ]
  },
  {
   "cell_type": "code",
   "execution_count": 23,
   "metadata": {
    "collapsed": true
   },
   "outputs": [],
   "source": [
    "combined_user_ratings_meta['country'] = combined_user_ratings_meta['country'].astype('category')\n",
    "combined_user_ratings_meta['genre'] = combined_user_ratings_meta['genre'].astype('category')\n",
    "combined_user_ratings_meta['country'] = combined_user_ratings_meta['country'].cat.codes\n",
    "combined_user_ratings_meta['genre'] = combined_user_ratings_meta['genre'].cat.codes"
   ]
  },
  {
   "cell_type": "code",
   "execution_count": 24,
   "metadata": {
    "collapsed": false
   },
   "outputs": [
    {
     "data": {
      "text/html": [
       "<div>\n",
       "<table border=\"1\" class=\"dataframe\">\n",
       "  <thead>\n",
       "    <tr style=\"text-align: right;\">\n",
       "      <th></th>\n",
       "      <th>Unnamed: 0</th>\n",
       "      <th>userID</th>\n",
       "      <th>movieID</th>\n",
       "      <th>rating</th>\n",
       "      <th>date_day</th>\n",
       "      <th>date_month</th>\n",
       "      <th>date_year</th>\n",
       "      <th>date_hour</th>\n",
       "      <th>date_minute</th>\n",
       "      <th>date_second</th>\n",
       "      <th>country</th>\n",
       "      <th>genre</th>\n",
       "    </tr>\n",
       "  </thead>\n",
       "  <tbody>\n",
       "    <tr>\n",
       "      <th>0</th>\n",
       "      <td>812061</td>\n",
       "      <td>68393</td>\n",
       "      <td>1281</td>\n",
       "      <td>3.0</td>\n",
       "      <td>17</td>\n",
       "      <td>11</td>\n",
       "      <td>2005</td>\n",
       "      <td>8</td>\n",
       "      <td>55</td>\n",
       "      <td>19</td>\n",
       "      <td>66</td>\n",
       "      <td>4</td>\n",
       "    </tr>\n",
       "    <tr>\n",
       "      <th>1</th>\n",
       "      <td>812061</td>\n",
       "      <td>68393</td>\n",
       "      <td>1281</td>\n",
       "      <td>3.0</td>\n",
       "      <td>17</td>\n",
       "      <td>11</td>\n",
       "      <td>2005</td>\n",
       "      <td>8</td>\n",
       "      <td>55</td>\n",
       "      <td>19</td>\n",
       "      <td>66</td>\n",
       "      <td>7</td>\n",
       "    </tr>\n",
       "    <tr>\n",
       "      <th>2</th>\n",
       "      <td>812061</td>\n",
       "      <td>68393</td>\n",
       "      <td>1281</td>\n",
       "      <td>3.0</td>\n",
       "      <td>17</td>\n",
       "      <td>11</td>\n",
       "      <td>2005</td>\n",
       "      <td>8</td>\n",
       "      <td>55</td>\n",
       "      <td>19</td>\n",
       "      <td>66</td>\n",
       "      <td>18</td>\n",
       "    </tr>\n",
       "    <tr>\n",
       "      <th>3</th>\n",
       "      <td>299912</td>\n",
       "      <td>24668</td>\n",
       "      <td>1281</td>\n",
       "      <td>4.5</td>\n",
       "      <td>9</td>\n",
       "      <td>2</td>\n",
       "      <td>2007</td>\n",
       "      <td>11</td>\n",
       "      <td>10</td>\n",
       "      <td>51</td>\n",
       "      <td>66</td>\n",
       "      <td>4</td>\n",
       "    </tr>\n",
       "    <tr>\n",
       "      <th>4</th>\n",
       "      <td>299912</td>\n",
       "      <td>24668</td>\n",
       "      <td>1281</td>\n",
       "      <td>4.5</td>\n",
       "      <td>9</td>\n",
       "      <td>2</td>\n",
       "      <td>2007</td>\n",
       "      <td>11</td>\n",
       "      <td>10</td>\n",
       "      <td>51</td>\n",
       "      <td>66</td>\n",
       "      <td>7</td>\n",
       "    </tr>\n",
       "  </tbody>\n",
       "</table>\n",
       "</div>"
      ],
      "text/plain": [
       "   Unnamed: 0  userID  movieID  rating  date_day  date_month  date_year  \\\n",
       "0      812061   68393     1281     3.0        17          11       2005   \n",
       "1      812061   68393     1281     3.0        17          11       2005   \n",
       "2      812061   68393     1281     3.0        17          11       2005   \n",
       "3      299912   24668     1281     4.5         9           2       2007   \n",
       "4      299912   24668     1281     4.5         9           2       2007   \n",
       "\n",
       "   date_hour  date_minute  date_second  country  genre  \n",
       "0          8           55           19       66      4  \n",
       "1          8           55           19       66      7  \n",
       "2          8           55           19       66     18  \n",
       "3         11           10           51       66      4  \n",
       "4         11           10           51       66      7  "
      ]
     },
     "execution_count": 24,
     "metadata": {},
     "output_type": "execute_result"
    }
   ],
   "source": [
    "combined_user_ratings_meta.head()"
   ]
  },
  {
   "cell_type": "code",
   "execution_count": 25,
   "metadata": {
    "collapsed": false
   },
   "outputs": [
    {
     "data": {
      "text/html": [
       "<div>\n",
       "<table border=\"1\" class=\"dataframe\">\n",
       "  <thead>\n",
       "    <tr style=\"text-align: right;\">\n",
       "      <th></th>\n",
       "      <th>userID</th>\n",
       "      <th>movieID</th>\n",
       "      <th>rating</th>\n",
       "      <th>date_day</th>\n",
       "      <th>date_month</th>\n",
       "      <th>date_year</th>\n",
       "      <th>date_hour</th>\n",
       "      <th>date_minute</th>\n",
       "      <th>country</th>\n",
       "      <th>genre</th>\n",
       "    </tr>\n",
       "  </thead>\n",
       "  <tbody>\n",
       "    <tr>\n",
       "      <th>0</th>\n",
       "      <td>68393</td>\n",
       "      <td>1281</td>\n",
       "      <td>3</td>\n",
       "      <td>17</td>\n",
       "      <td>11</td>\n",
       "      <td>2005</td>\n",
       "      <td>8</td>\n",
       "      <td>55</td>\n",
       "      <td>66</td>\n",
       "      <td>4</td>\n",
       "    </tr>\n",
       "    <tr>\n",
       "      <th>1</th>\n",
       "      <td>68393</td>\n",
       "      <td>1281</td>\n",
       "      <td>3</td>\n",
       "      <td>17</td>\n",
       "      <td>11</td>\n",
       "      <td>2005</td>\n",
       "      <td>8</td>\n",
       "      <td>55</td>\n",
       "      <td>66</td>\n",
       "      <td>7</td>\n",
       "    </tr>\n",
       "  </tbody>\n",
       "</table>\n",
       "</div>"
      ],
      "text/plain": [
       "   userID  movieID  rating  date_day  date_month  date_year  date_hour  \\\n",
       "0   68393     1281       3        17          11       2005          8   \n",
       "1   68393     1281       3        17          11       2005          8   \n",
       "\n",
       "   date_minute  country  genre  \n",
       "0           55       66      4  \n",
       "1           55       66      7  "
      ]
     },
     "execution_count": 25,
     "metadata": {},
     "output_type": "execute_result"
    }
   ],
   "source": [
    "#  remove Unamed and second as I can't see how they would have any relevance\n",
    "combined_user_ratings_meta = combined_user_ratings_meta.loc[:,['userID','movieID','rating','date_day','date_month','date_year','date_hour'\n",
    "                                  ,'date_minute', 'country', 'genre']]\n",
    "combined_user_ratings_meta.head(2)"
   ]
  },
  {
   "cell_type": "code",
   "execution_count": null,
   "metadata": {
    "collapsed": true
   },
   "outputs": [],
   "source": []
  },
  {
   "cell_type": "markdown",
   "metadata": {},
   "source": [
    "### Clean the test set in the same way"
   ]
  },
  {
   "cell_type": "code",
   "execution_count": 26,
   "metadata": {
    "collapsed": true
   },
   "outputs": [],
   "source": [
    "combined_user_ratings_meta_test = pd.merge(\n",
    "                                    pd.merge(user_ratings_test, movie_countries, on='movieID', how='inner')  \n",
    "                                      , movie_genres, on='movieID', how='inner')\n",
    "\n",
    "combined_user_ratings_meta_test['country'] = combined_user_ratings_meta_test['country'].astype('category')\n",
    "combined_user_ratings_meta_test['genre'] = combined_user_ratings_meta_test['genre'].astype('category')\n",
    "combined_user_ratings_meta_test['country'] = combined_user_ratings_meta_test['country'].cat.codes\n",
    "combined_user_ratings_meta_test['genre'] = combined_user_ratings_meta_test['genre'].cat.codes\n",
    "\n",
    "combined_user_ratings_meta_test = combined_user_ratings_meta_test.loc[:,['userID','movieID','rating','date_day',\n",
    "                                    'date_month','date_year','date_hour','date_minute', 'country', 'genre']]"
   ]
  },
  {
   "cell_type": "code",
   "execution_count": null,
   "metadata": {
    "collapsed": true
   },
   "outputs": [],
   "source": []
  },
  {
   "cell_type": "code",
   "execution_count": null,
   "metadata": {
    "collapsed": true
   },
   "outputs": [],
   "source": []
  },
  {
   "cell_type": "code",
   "execution_count": 29,
   "metadata": {
    "collapsed": true
   },
   "outputs": [],
   "source": [
    "from sklearn.neighbors import KNeighborsRegressor"
   ]
  },
  {
   "cell_type": "code",
   "execution_count": 30,
   "metadata": {
    "collapsed": false
   },
   "outputs": [
    {
     "data": {
      "text/plain": [
       "KNeighborsRegressor(algorithm='auto', leaf_size=30, metric='minkowski',\n",
       "          metric_params=None, n_jobs=1, n_neighbors=5, p=2,\n",
       "          weights='uniform')"
      ]
     },
     "execution_count": 30,
     "metadata": {},
     "output_type": "execute_result"
    }
   ],
   "source": [
    "knn = KNeighborsRegressor(n_neighbors=5)\n",
    "knn.fit(combined_user_ratings_meta.loc[:,['userID','movieID','date_day','date_month','date_year','date_hour'\n",
    "                                  ,'date_minute', 'country', 'genre']].as_matrix(), \n",
    "                                            np.asarray(combined_user_ratings_meta.loc[:,['rating']]))"
   ]
  },
  {
   "cell_type": "code",
   "execution_count": 31,
   "metadata": {
    "collapsed": false
   },
   "outputs": [
    {
     "data": {
      "text/plain": [
       "-0.22527425904398757"
      ]
     },
     "execution_count": 31,
     "metadata": {},
     "output_type": "execute_result"
    }
   ],
   "source": [
    "knn.score(combined_user_ratings_meta_test.loc[:,['userID','movieID','date_day','date_month','date_year','date_hour'\n",
    "                                  ,'date_minute', 'country', 'genre']].as_matrix(), \n",
    "                                            np.asarray(combined_user_ratings_meta_test.loc[:,['rating']]))"
   ]
  },
  {
   "cell_type": "code",
   "execution_count": 32,
   "metadata": {
    "collapsed": false
   },
   "outputs": [],
   "source": [
    "predicted_ratings = []\n",
    "for user in combined_user_ratings_meta_test.loc[:,['userID','movieID','date_day','date_month','date_year','date_hour'\n",
    "                                  ,'date_minute', 'country', 'genre']].as_matrix():\n",
    "    predicted_ratings.append(knn.predict(user.reshape(1,-1)))"
   ]
  },
  {
   "cell_type": "code",
   "execution_count": 33,
   "metadata": {
    "collapsed": true
   },
   "outputs": [],
   "source": [
    "actual_ratings = np.asarray(combined_user_ratings_meta_test.loc[:,['rating']])"
   ]
  },
  {
   "cell_type": "code",
   "execution_count": 34,
   "metadata": {
    "collapsed": false
   },
   "outputs": [
    {
     "data": {
      "text/plain": [
       "array([[ 3.5],\n",
       "       [ 3.5],\n",
       "       [ 3.5],\n",
       "       ..., \n",
       "       [ 3.5],\n",
       "       [ 3.5],\n",
       "       [ 1. ]])"
      ]
     },
     "execution_count": 34,
     "metadata": {},
     "output_type": "execute_result"
    }
   ],
   "source": [
    "actual_ratings"
   ]
  },
  {
   "cell_type": "code",
   "execution_count": 36,
   "metadata": {
    "collapsed": false
   },
   "outputs": [
    {
     "data": {
      "text/plain": [
       "array([[[ 3.2]],\n",
       "\n",
       "       [[ 3.2]],\n",
       "\n",
       "       [[ 3.2]],\n",
       "\n",
       "       ..., \n",
       "       [[ 2. ]],\n",
       "\n",
       "       [[ 2. ]],\n",
       "\n",
       "       [[ 2.6]]])"
      ]
     },
     "execution_count": 36,
     "metadata": {},
     "output_type": "execute_result"
    }
   ],
   "source": [
    "predicted_ratings = np.asarray(predicted_ratings)\n",
    "predicted_ratings"
   ]
  },
  {
   "cell_type": "code",
   "execution_count": 37,
   "metadata": {
    "collapsed": false
   },
   "outputs": [
    {
     "data": {
      "text/plain": [
       "array([ 1.10081592])"
      ]
     },
     "execution_count": 37,
     "metadata": {},
     "output_type": "execute_result"
    }
   ],
   "source": [
    "#  calculate rmse\n",
    "rmse = 0.0\n",
    "for i in range(len(actual_ratings)):\n",
    "    rmse += (predicted_ratings[i][0] - actual_ratings[i])**2\n",
    "    \n",
    "rmse /= len(actual_ratings)\n",
    "rmse = np.sqrt(rmse)\n",
    "rmse"
   ]
  },
  {
   "cell_type": "markdown",
   "metadata": {},
   "source": [
    "# Create Predictions for Kaggle"
   ]
  },
  {
   "cell_type": "code",
   "execution_count": 39,
   "metadata": {
    "collapsed": false
   },
   "outputs": [
    {
     "data": {
      "text/html": [
       "<div>\n",
       "<table border=\"1\" class=\"dataframe\">\n",
       "  <thead>\n",
       "    <tr style=\"text-align: right;\">\n",
       "      <th></th>\n",
       "      <th>testID</th>\n",
       "      <th>userID</th>\n",
       "      <th>movieID</th>\n",
       "    </tr>\n",
       "  </thead>\n",
       "  <tbody>\n",
       "    <tr>\n",
       "      <th>0</th>\n",
       "      <td>0</td>\n",
       "      <td>6785</td>\n",
       "      <td>2599</td>\n",
       "    </tr>\n",
       "    <tr>\n",
       "      <th>1</th>\n",
       "      <td>1</td>\n",
       "      <td>10783</td>\n",
       "      <td>339</td>\n",
       "    </tr>\n",
       "    <tr>\n",
       "      <th>2</th>\n",
       "      <td>2</td>\n",
       "      <td>64642</td>\n",
       "      <td>58162</td>\n",
       "    </tr>\n",
       "    <tr>\n",
       "      <th>3</th>\n",
       "      <td>3</td>\n",
       "      <td>6971</td>\n",
       "      <td>296</td>\n",
       "    </tr>\n",
       "    <tr>\n",
       "      <th>4</th>\n",
       "      <td>4</td>\n",
       "      <td>48802</td>\n",
       "      <td>1387</td>\n",
       "    </tr>\n",
       "  </tbody>\n",
       "</table>\n",
       "</div>"
      ],
      "text/plain": [
       "   testID  userID  movieID\n",
       "0       0    6785     2599\n",
       "1       1   10783      339\n",
       "2       2   64642    58162\n",
       "3       3    6971      296\n",
       "4       4   48802     1387"
      ]
     },
     "execution_count": 39,
     "metadata": {},
     "output_type": "execute_result"
    }
   ],
   "source": [
    "predictions.head()"
   ]
  },
  {
   "cell_type": "code",
   "execution_count": 45,
   "metadata": {
    "collapsed": true
   },
   "outputs": [],
   "source": [
    "combined_user_ratings_meta_kaggle = pd.merge(\n",
    "                                    pd.merge(predictions, movie_countries, on='movieID', how='inner')  \n",
    "                                      , movie_genres, on='movieID', how='inner')\n",
    "\n",
    "combined_user_ratings_meta_kaggle['country'] = combined_user_ratings_meta_kaggle['country'].astype('category')\n",
    "combined_user_ratings_meta_kaggle['genre'] = combined_user_ratings_meta_kaggle['genre'].astype('category')\n",
    "combined_user_ratings_meta_kaggle['country'] = combined_user_ratings_meta_kaggle['country'].cat.codes\n",
    "combined_user_ratings_meta_kaggle['genre'] = combined_user_ratings_meta_kaggle['genre'].cat.codes\n",
    "\n",
    "combined_user_ratings_meta_kaggle = combined_user_ratings_meta_kaggle.loc[:,['userID','movieID','rating','date_day',\n",
    "                                    'date_month','date_year','date_hour','date_minute', 'country', 'genre']]"
   ]
  },
  {
   "cell_type": "code",
   "execution_count": 56,
   "metadata": {
    "collapsed": false
   },
   "outputs": [],
   "source": [
    "combined_user_ratings_meta_kaggle['date_day'] = [combined_user_ratings_meta['date_day'].mean()] * combined_user_ratings_meta_kaggle.shape[0]\n",
    "combined_user_ratings_meta_kaggle['date_month'] = [combined_user_ratings_meta['date_month'].mean()] * combined_user_ratings_meta_kaggle.shape[0]\n",
    "combined_user_ratings_meta_kaggle['date_year'] = [combined_user_ratings_meta['date_year'].mean()] * combined_user_ratings_meta_kaggle.shape[0]\n",
    "combined_user_ratings_meta_kaggle['date_hour'] = [combined_user_ratings_meta['date_hour'].mean()] * combined_user_ratings_meta_kaggle.shape[0]\n",
    "combined_user_ratings_meta_kaggle['date_minute'] = [combined_user_ratings_meta['date_minute'].mean()] * combined_user_ratings_meta_kaggle.shape[0]"
   ]
  },
  {
   "cell_type": "code",
   "execution_count": 57,
   "metadata": {
    "collapsed": false
   },
   "outputs": [],
   "source": [
    "predicted_ratings_kaggle = []\n",
    "for user in combined_user_ratings_meta_kaggle.loc[:,['userID','movieID','date_day','date_month','date_year','date_hour'\n",
    "                                  ,'date_minute', 'country', 'genre']].as_matrix():\n",
    "    predicted_ratings_kaggle.append(knn.predict(user.reshape(1,-1)))"
   ]
  },
  {
   "cell_type": "code",
   "execution_count": 64,
   "metadata": {
    "collapsed": false
   },
   "outputs": [],
   "source": [
    "combined_user_ratings_meta_kaggle_predictions = pd.merge(\n",
    "                                    pd.merge(predictions, movie_countries, on='movieID', how='inner')  \n",
    "                                      , movie_genres, on='movieID', how='inner')"
   ]
  },
  {
   "cell_type": "code",
   "execution_count": 69,
   "metadata": {
    "collapsed": false
   },
   "outputs": [],
   "source": [
    "pd.DataFrame({'testID':combined_user_ratings_meta_kaggle_predictions.loc[:,'testID'] ,'predicted rating':predicted_ratings_kaggle})\\\n",
    "                        .to_csv('predictions_output')"
   ]
  },
  {
   "cell_type": "code",
   "execution_count": 66,
   "metadata": {
    "collapsed": false
   },
   "outputs": [
    {
     "data": {
      "text/html": [
       "<div>\n",
       "<table border=\"1\" class=\"dataframe\">\n",
       "  <thead>\n",
       "    <tr style=\"text-align: right;\">\n",
       "      <th></th>\n",
       "      <th>testID</th>\n",
       "      <th>userID</th>\n",
       "      <th>movieID</th>\n",
       "      <th>country</th>\n",
       "      <th>genre</th>\n",
       "    </tr>\n",
       "  </thead>\n",
       "  <tbody>\n",
       "    <tr>\n",
       "      <th>0</th>\n",
       "      <td>0</td>\n",
       "      <td>6785</td>\n",
       "      <td>2599</td>\n",
       "      <td>USA</td>\n",
       "      <td>Comedy</td>\n",
       "    </tr>\n",
       "    <tr>\n",
       "      <th>1</th>\n",
       "      <td>4452</td>\n",
       "      <td>56091</td>\n",
       "      <td>2599</td>\n",
       "      <td>USA</td>\n",
       "      <td>Comedy</td>\n",
       "    </tr>\n",
       "    <tr>\n",
       "      <th>2</th>\n",
       "      <td>4487</td>\n",
       "      <td>36292</td>\n",
       "      <td>2599</td>\n",
       "      <td>USA</td>\n",
       "      <td>Comedy</td>\n",
       "    </tr>\n",
       "    <tr>\n",
       "      <th>3</th>\n",
       "      <td>4971</td>\n",
       "      <td>31682</td>\n",
       "      <td>2599</td>\n",
       "      <td>USA</td>\n",
       "      <td>Comedy</td>\n",
       "    </tr>\n",
       "    <tr>\n",
       "      <th>4</th>\n",
       "      <td>5480</td>\n",
       "      <td>44287</td>\n",
       "      <td>2599</td>\n",
       "      <td>USA</td>\n",
       "      <td>Comedy</td>\n",
       "    </tr>\n",
       "  </tbody>\n",
       "</table>\n",
       "</div>"
      ],
      "text/plain": [
       "   testID  userID  movieID country   genre\n",
       "0       0    6785     2599     USA  Comedy\n",
       "1    4452   56091     2599     USA  Comedy\n",
       "2    4487   36292     2599     USA  Comedy\n",
       "3    4971   31682     2599     USA  Comedy\n",
       "4    5480   44287     2599     USA  Comedy"
      ]
     },
     "execution_count": 66,
     "metadata": {},
     "output_type": "execute_result"
    }
   ],
   "source": [
    "combined_user_ratings_meta_kaggle_predictions.head()"
   ]
  },
  {
   "cell_type": "code",
   "execution_count": null,
   "metadata": {
    "collapsed": true
   },
   "outputs": [],
   "source": []
  },
  {
   "cell_type": "code",
   "execution_count": null,
   "metadata": {
    "collapsed": true
   },
   "outputs": [],
   "source": []
  },
  {
   "cell_type": "code",
   "execution_count": null,
   "metadata": {
    "collapsed": true
   },
   "outputs": [],
   "source": []
  },
  {
   "cell_type": "code",
   "execution_count": null,
   "metadata": {
    "collapsed": true
   },
   "outputs": [],
   "source": []
  },
  {
   "cell_type": "code",
   "execution_count": null,
   "metadata": {
    "collapsed": true
   },
   "outputs": [],
   "source": []
  },
  {
   "cell_type": "code",
   "execution_count": null,
   "metadata": {
    "collapsed": true
   },
   "outputs": [],
   "source": []
  }
 ],
 "metadata": {
  "kernelspec": {
   "display_name": "Python 3",
   "language": "python",
   "name": "python3"
  },
  "language_info": {
   "codemirror_mode": {
    "name": "ipython",
    "version": 3
   },
   "file_extension": ".py",
   "mimetype": "text/x-python",
   "name": "python",
   "nbconvert_exporter": "python",
   "pygments_lexer": "ipython3",
   "version": "3.5.1"
  }
 },
 "nbformat": 4,
 "nbformat_minor": 0
}
