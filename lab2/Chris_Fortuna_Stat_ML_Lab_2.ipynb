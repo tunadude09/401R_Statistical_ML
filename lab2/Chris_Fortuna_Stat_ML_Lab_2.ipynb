{
 "cells": [
  {
   "cell_type": "code",
   "execution_count": 13,
   "metadata": {
    "collapsed": false
   },
   "outputs": [
    {
     "name": "stdout",
     "output_type": "stream",
     "text": [
      "Populating the interactive namespace from numpy and matplotlib\n"
     ]
    },
    {
     "name": "stderr",
     "output_type": "stream",
     "text": [
      "WARNING: pylab import has clobbered these variables: ['sum', 'title', 'axes']\n",
      "`%matplotlib` prevents importing * from pylab and numpy\n"
     ]
    }
   ],
   "source": [
    "import numpy as np\n",
    "import scipy as scp\n",
    "import pandas as pd\n",
    "import matplotlib.pyplot as plt\n",
    "import seaborn as sns\n",
    "\n",
    "%matplotlib inline\n",
    "%pylab inline\n",
    "pylab.rcParams['figure.figsize'] = (16.0, 8.0)"
   ]
  },
  {
   "cell_type": "markdown",
   "metadata": {},
   "source": [
    "# Set Up Number Lists"
   ]
  },
  {
   "cell_type": "code",
   "execution_count": 14,
   "metadata": {
    "collapsed": false
   },
   "outputs": [],
   "source": [
    "def isEven(x):\n",
    "    if x % 2 == 0:\n",
    "        return True\n",
    "    return False\n",
    "\n",
    "def isOdd(x):\n",
    "    if x % 2 == 1:\n",
    "        return True\n",
    "    return False\n",
    "\n",
    "def isSquare(x):\n",
    "    if x in [1,4,9,16,25,36,49,64,81,100]:\n",
    "        return True\n",
    "    return False\n",
    "\n",
    "def isMult3(x):\n",
    "    if x % 3 == 0:\n",
    "        return True\n",
    "    return False\n",
    "\n",
    "def isMult4(x):\n",
    "    if x % 4 == 0:\n",
    "        return True\n",
    "    return False\n",
    "\n",
    "def isMult5(x):\n",
    "    if x % 5 == 0:\n",
    "        return True\n",
    "    return False\n",
    "\n",
    "def isMult6(x):\n",
    "    if x % 6 == 0:\n",
    "        return True\n",
    "    return False\n",
    "\n",
    "def isMult7(x):\n",
    "    if x % 7 == 0:\n",
    "        return True\n",
    "    return False\n",
    "\n",
    "def isMult8(x):\n",
    "    if x % 8 == 0:\n",
    "        return True\n",
    "    return False\n",
    "\n",
    "def isMult9(x):\n",
    "    if x % 9 == 0:\n",
    "        return True\n",
    "    return False\n",
    "\n",
    "def isMult10(x):\n",
    "    if x % 10 == 0:\n",
    "        return True\n",
    "    return False\n",
    "\n",
    "def endsIn1(x):\n",
    "    if x % 10 == 1:\n",
    "        return True\n",
    "    return False\n",
    "\n",
    "def endsIn2(x):\n",
    "    if x % 10 == 2:\n",
    "        return True\n",
    "    return False\n",
    "\n",
    "def endsIn3(x):\n",
    "    if x % 10 == 3:\n",
    "        return True\n",
    "    return False\n",
    "\n",
    "def endsIn4(x):\n",
    "    if x % 10 == 4:\n",
    "        return True\n",
    "    return False\n",
    "\n",
    "def endsIn5(x):\n",
    "    if x % 10 == 5:\n",
    "        return True\n",
    "    return False\n",
    "\n",
    "def endsIn6(x):\n",
    "    if x % 10 == 6:\n",
    "        return True\n",
    "    return False\n",
    "\n",
    "def endsIn7(x):\n",
    "    if x % 10 == 7:\n",
    "        return True\n",
    "    return False\n",
    "\n",
    "def endsIn8(x):\n",
    "    if x % 10 == 8:\n",
    "        return True\n",
    "    return False\n",
    "\n",
    "def endsIn9(x):\n",
    "    if x % 10 == 9:\n",
    "        return True\n",
    "    return False\n",
    "\n",
    "def isPow2(x):\n",
    "    if x in [1,2,4,8,16,32,64]:\n",
    "        return True\n",
    "    return False\n",
    "\n",
    "def isPow3(x):\n",
    "    if x in [1,3,9,27,81]:\n",
    "        return True\n",
    "    return False\n",
    "\n",
    "def isPow4(x):\n",
    "    if x in [1,4,16,64]:\n",
    "        return True\n",
    "    return False\n",
    "\n",
    "def isPow5(x):\n",
    "    if x in [1,5,25]:\n",
    "        return True\n",
    "    return False\n",
    "\n",
    "def isPow6(x):\n",
    "    if x in [1,6,36]:\n",
    "        return True\n",
    "    return False\n",
    "\n",
    "def isPow7(x):\n",
    "    if x in [1,7,49]:\n",
    "        return True\n",
    "    return False\n",
    "\n",
    "def isPow8(x):\n",
    "    if x in [1,8,64]:\n",
    "        return True\n",
    "    return False\n",
    "\n",
    "def isPow9(x):\n",
    "    if x in [1,9,81]:\n",
    "        return True\n",
    "    return False\n",
    "\n",
    "def isPow10(x):\n",
    "    if x in [1,10,100]:\n",
    "        return True\n",
    "    return False\n",
    "\n",
    "def isAll(x):\n",
    "    return True\n",
    "\n",
    "def isPow2Plus37(x):\n",
    "    if x in [1,2,4,8,16,32,64,37]:\n",
    "        return True\n",
    "    return False\n",
    "\n",
    "def isPow2minus32(x):\n",
    "    if x in [1,2,4,8,16,64]:\n",
    "        return True\n",
    "    return False\n",
    "\n",
    "concept_sets = list(np.ones(33))\n",
    "concept_sets[0] = list(filter(isEven, range(0,101)))\n",
    "concept_sets[1] = list(filter(isOdd, range(0,101)))\n",
    "concept_sets[2] = list(filter(isSquare, range(0,101)))\n",
    "concept_sets[3] = list(filter(isMult3, range(0,101)))\n",
    "concept_sets[4] = list(filter(isMult4, range(0,101)))\n",
    "concept_sets[5] = list(filter(isMult5, range(0,101)))\n",
    "concept_sets[6] = list(filter(isMult6, range(0,101)))\n",
    "concept_sets[7] = list(filter(isMult7, range(0,101)))\n",
    "concept_sets[8] = list(filter(isMult8, range(0,101)))\n",
    "concept_sets[9] = list(filter(isMult9, range(0,101)))\n",
    "concept_sets[10] = list(filter(isMult10, range(0,101)))\n",
    "concept_sets[11] = list(filter(isMult10, range(0,101)))  #  this is 'ends in 0'\n",
    "concept_sets[12] = list(filter(endsIn1, range(0,101)))\n",
    "concept_sets[13] = list(filter(endsIn2, range(0,101)))\n",
    "concept_sets[14] = list(filter(endsIn3, range(0,101)))\n",
    "concept_sets[15] = list(filter(endsIn4, range(0,101)))\n",
    "concept_sets[16] = list(filter(endsIn5, range(0,101)))\n",
    "concept_sets[17] = list(filter(endsIn6, range(0,101)))\n",
    "concept_sets[18] = list(filter(endsIn7, range(0,101)))\n",
    "concept_sets[19] = list(filter(endsIn8, range(0,101)))\n",
    "concept_sets[20] = list(filter(endsIn9, range(0,101)))\n",
    "concept_sets[21] = list(filter(isPow2, range(0,101)))\n",
    "concept_sets[22] = list(filter(isPow3, range(0,101)))\n",
    "concept_sets[23] = list(filter(isPow4, range(0,101)))\n",
    "concept_sets[24] = list(filter(isPow5, range(0,101)))\n",
    "concept_sets[25] = list(filter(isPow6, range(0,101)))\n",
    "concept_sets[26] = list(filter(isPow7, range(0,101)))\n",
    "concept_sets[27] = list(filter(isPow8, range(0,101)))\n",
    "concept_sets[28] = list(filter(isPow9, range(0,101)))\n",
    "concept_sets[29] = list(filter(isPow10, range(0,101)))\n",
    "concept_sets[30] = list(filter(isAll, range(0,101)))\n",
    "concept_sets[31] = list(filter(isPow2Plus37, range(0,101)))\n",
    "concept_sets[32] = list(filter(isPow2minus32, range(0,101)))\n"
   ]
  },
  {
   "cell_type": "markdown",
   "metadata": {},
   "source": [
    "# Prompt User For Input"
   ]
  },
  {
   "cell_type": "code",
   "execution_count": 15,
   "metadata": {
    "collapsed": false
   },
   "outputs": [
    {
     "name": "stdout",
     "output_type": "stream",
     "text": [
      "Please enter a sequence of numbers: 3 6 9\n",
      "[3, 6, 9]\n"
     ]
    }
   ],
   "source": [
    "user_input = ''\n",
    "\n",
    "#  prompt user until they give a correct entry\n",
    "while True:\n",
    "    user_input = input('Please enter a sequence of numbers: ')\n",
    "    user_input = user_input.split(' ')\n",
    "    # print (user_input)\n",
    "\n",
    "    def strIsNumUnder100(str):\n",
    "        try:\n",
    "            x = int(str)\n",
    "            if x in range(0,101):\n",
    "                return True\n",
    "            return False\n",
    "        except ValueError:\n",
    "            return False\n",
    "\n",
    "    #  this takes every element of the iterable user_input, then it runs that member through strIsNum, the filter only returns \n",
    "    #  members which return true for the filtering function, very useful\n",
    "    user_input = [int(x) for x in filter(strIsNumUnder100, user_input)]\n",
    "    if len(user_input) > 0:\n",
    "        break\n",
    "\n",
    "\n",
    "print(user_input)"
   ]
  },
  {
   "cell_type": "markdown",
   "metadata": {},
   "source": [
    "# Set Up Priors"
   ]
  },
  {
   "cell_type": "code",
   "execution_count": 16,
   "metadata": {
    "collapsed": false,
    "scrolled": true
   },
   "outputs": [],
   "source": [
    "prior = np.ones((len(concept_sets), 1))\n",
    "prior[0] = 5\n",
    "prior[1] = 5\n",
    "prior[2] = 5\n",
    "prior[21] = 5\n",
    "prior = prior / np.sum(prior)\n",
    "\n"
   ]
  },
  {
   "cell_type": "markdown",
   "metadata": {},
   "source": [
    "# Compute Likelihoods"
   ]
  },
  {
   "cell_type": "code",
   "execution_count": 17,
   "metadata": {
    "collapsed": false,
    "scrolled": true
   },
   "outputs": [],
   "source": [
    "likelihood = np.ones((len(concept_sets), 1))\n",
    "\n",
    "for i in range(len(concept_sets)):\n",
    "    concept_likelihood = 1.0\n",
    "    sample_prob = (1.0 / float(len(concept_sets[i])))\n",
    "\n",
    "    \n",
    "    for j in range(len(user_input)):\n",
    "        if user_input[j] in concept_sets[i]:\n",
    "            concept_likelihood *= sample_prob\n",
    "        else:\n",
    "            concept_likelihood = 0.0\n",
    "    \n",
    "    likelihood[i] = concept_likelihood\n",
    "    "
   ]
  },
  {
   "cell_type": "markdown",
   "metadata": {},
   "source": [
    "# Calculate Posteriors"
   ]
  },
  {
   "cell_type": "code",
   "execution_count": 18,
   "metadata": {
    "collapsed": false
   },
   "outputs": [
    {
     "name": "stdout",
     "output_type": "stream",
     "text": [
      "[  5.39046800e-07]\n",
      "[ 1.]\n"
     ]
    }
   ],
   "source": [
    "normalizing_factor = 0.0\n",
    "\n",
    "#  sum together the probs for concepts that are consistent with the user's input data\n",
    "for i,concept in enumerate(concept_sets):\n",
    "    concept_norm_factor = 1.0\n",
    "    concept_norm_factor *= (prior[i] * likelihood[i])\n",
    "    normalizing_factor += concept_norm_factor\n",
    "\n",
    "print(normalizing_factor)\n",
    "\n",
    "posterior = np.ones((len(concept_sets), 1))\n",
    "for i in range(len(posterior)):\n",
    "    posterior[i] = (prior[i] * likelihood[i]) / normalizing_factor\n",
    "    \n",
    "# print(posterior)\n",
    "sum = 0.0\n",
    "for x in posterior: sum += x \n",
    "print(sum)"
   ]
  },
  {
   "cell_type": "markdown",
   "metadata": {},
   "source": [
    "# Calculate Posterior Predictive Distribution"
   ]
  },
  {
   "cell_type": "code",
   "execution_count": 19,
   "metadata": {
    "collapsed": false,
    "scrolled": true
   },
   "outputs": [
    {
     "name": "stdout",
     "output_type": "stream",
     "text": [
      "[ 36.46200046]\n"
     ]
    },
    {
     "data": {
      "text/plain": [
       "array([[ 1.        ],\n",
       "       [ 0.03674628],\n",
       "       [ 0.03674628],\n",
       "       [ 1.        ],\n",
       "       [ 0.03674628],\n",
       "       [ 0.03674628],\n",
       "       [ 1.        ],\n",
       "       [ 0.03674628],\n",
       "       [ 0.03674628],\n",
       "       [ 1.        ],\n",
       "       [ 0.03674628],\n",
       "       [ 0.03674628],\n",
       "       [ 1.        ],\n",
       "       [ 0.03674628],\n",
       "       [ 0.03674628],\n",
       "       [ 1.        ],\n",
       "       [ 0.03674628],\n",
       "       [ 0.03674628],\n",
       "       [ 1.        ],\n",
       "       [ 0.03674628],\n",
       "       [ 0.03674628],\n",
       "       [ 1.        ],\n",
       "       [ 0.03674628],\n",
       "       [ 0.03674628],\n",
       "       [ 1.        ],\n",
       "       [ 0.03674628],\n",
       "       [ 0.03674628],\n",
       "       [ 1.        ],\n",
       "       [ 0.03674628],\n",
       "       [ 0.03674628],\n",
       "       [ 1.        ],\n",
       "       [ 0.03674628],\n",
       "       [ 0.03674628],\n",
       "       [ 1.        ],\n",
       "       [ 0.03674628],\n",
       "       [ 0.03674628],\n",
       "       [ 1.        ],\n",
       "       [ 0.03674628],\n",
       "       [ 0.03674628],\n",
       "       [ 1.        ],\n",
       "       [ 0.03674628],\n",
       "       [ 0.03674628],\n",
       "       [ 1.        ],\n",
       "       [ 0.03674628],\n",
       "       [ 0.03674628],\n",
       "       [ 1.        ],\n",
       "       [ 0.03674628],\n",
       "       [ 0.03674628],\n",
       "       [ 1.        ],\n",
       "       [ 0.03674628],\n",
       "       [ 0.03674628],\n",
       "       [ 1.        ],\n",
       "       [ 0.03674628],\n",
       "       [ 0.03674628],\n",
       "       [ 1.        ],\n",
       "       [ 0.03674628],\n",
       "       [ 0.03674628],\n",
       "       [ 1.        ],\n",
       "       [ 0.03674628],\n",
       "       [ 0.03674628],\n",
       "       [ 1.        ],\n",
       "       [ 0.03674628],\n",
       "       [ 0.03674628],\n",
       "       [ 1.        ],\n",
       "       [ 0.03674628],\n",
       "       [ 0.03674628],\n",
       "       [ 1.        ],\n",
       "       [ 0.03674628],\n",
       "       [ 0.03674628],\n",
       "       [ 1.        ],\n",
       "       [ 0.03674628],\n",
       "       [ 0.03674628],\n",
       "       [ 1.        ],\n",
       "       [ 0.03674628],\n",
       "       [ 0.03674628],\n",
       "       [ 1.        ],\n",
       "       [ 0.03674628],\n",
       "       [ 0.03674628],\n",
       "       [ 1.        ],\n",
       "       [ 0.03674628],\n",
       "       [ 0.03674628],\n",
       "       [ 1.        ],\n",
       "       [ 0.03674628],\n",
       "       [ 0.03674628],\n",
       "       [ 1.        ],\n",
       "       [ 0.03674628],\n",
       "       [ 0.03674628],\n",
       "       [ 1.        ],\n",
       "       [ 0.03674628],\n",
       "       [ 0.03674628],\n",
       "       [ 1.        ],\n",
       "       [ 0.03674628],\n",
       "       [ 0.03674628],\n",
       "       [ 1.        ],\n",
       "       [ 0.03674628],\n",
       "       [ 0.03674628],\n",
       "       [ 1.        ],\n",
       "       [ 0.03674628],\n",
       "       [ 0.03674628],\n",
       "       [ 1.        ],\n",
       "       [ 0.03674628]])"
      ]
     },
     "execution_count": 19,
     "metadata": {},
     "output_type": "execute_result"
    }
   ],
   "source": [
    "posterior_predictive = np.ones((101, 1))\n",
    "\n",
    "#  the normalizing factor is the highest value any x could receive if it was in every concept, which is 1\n",
    "#  this is implied but I made it explicit in the cell\n",
    "normalizing_factor_posterior_predictive = 1.0\n",
    "\n",
    "    \n",
    "for x in range(0,101):\n",
    "    prob_x_is_in_concept = 0.0\n",
    "    for i,h in enumerate(concept_sets):\n",
    "        if x in h:\n",
    "            prob_x_is_in_concept += posterior[i]\n",
    "    \n",
    "    posterior_predictive[x] = (prob_x_is_in_concept / normalizing_factor_posterior_predictive)\n",
    "    \n",
    "#  need to normalize\n",
    "    \n",
    "sum = 0.0\n",
    "for x in posterior_predictive:\n",
    "    sum += x\n",
    "print(sum)\n",
    "posterior_predictive"
   ]
  },
  {
   "cell_type": "markdown",
   "metadata": {},
   "source": [
    "# Most Likely Concept"
   ]
  },
  {
   "cell_type": "code",
   "execution_count": 20,
   "metadata": {
    "collapsed": false
   },
   "outputs": [
    {
     "name": "stdout",
     "output_type": "stream",
     "text": [
      "The most likely concept which could explain the data is: mult of 3\n"
     ]
    }
   ],
   "source": [
    "labels = pd.Series(['even','odd','squares','mult of 3','mult of 4','mult of 5','mult of 6','mult of 7','mult of 8','mult of 9','mult of 10','ends in 0','ends in 1','ends in 2','ends in 3','ends in 4','ends in 5','ends in 6','ends in 7','ends in 8','ends in 9','powers of 2','powers of 3','powers of 4','powers of 5','powers of 6','powers of 7','powers of 8','powers of 9','powers of 10','all','powers of 2+{37}','powers of 2-{32}'])\n",
    "print(\"The most likely concept which could explain the data is:\", labels[np.argmax(posterior)])"
   ]
  },
  {
   "cell_type": "markdown",
   "metadata": {},
   "source": [
    "# Graph Data"
   ]
  },
  {
   "cell_type": "code",
   "execution_count": 21,
   "metadata": {
    "collapsed": false,
    "scrolled": true
   },
   "outputs": [],
   "source": [
    "\n",
    "prior_plot = pd.DataFrame(prior)\n",
    "prior_plot = prior_plot.rename(columns = {0 : 'probability'})\n",
    "prior_plot.index = labels\n",
    "prior_plot = prior_plot.iloc[::-1]\n",
    "\n",
    "\n",
    "likelihood_plot = pd.DataFrame(likelihood)\n",
    "likelihood_plot = likelihood_plot.rename(columns = {0 : 'probability'})\n",
    "likelihood_plot.index = labels\n",
    "likelihood_plot = likelihood_plot.iloc[::-1]\n",
    "\n",
    "\n",
    "posterior_plot = pd.DataFrame(posterior)\n",
    "posterior_plot = posterior_plot.rename(columns = {0 : 'probability'})\n",
    "posterior_plot.index = labels\n",
    "posterior_plot = posterior_plot.iloc[::-1]\n",
    "\n",
    "\n",
    "posterior_predictive_plot = pd.DataFrame(posterior_predictive)\n",
    "posterior_predictive_plot = posterior_predictive_plot.rename(columns = {0 : 'probability'})"
   ]
  },
  {
   "cell_type": "code",
   "execution_count": 22,
   "metadata": {
    "collapsed": false
   },
   "outputs": [
    {
     "data": {
      "text/plain": [
       "<matplotlib.text.Text at 0x2686ac6c780>"
      ]
     },
     "execution_count": 22,
     "metadata": {},
     "output_type": "execute_result"
    },
    {
     "data": {
      "image/png": "[encoded data removed]",
      "text/plain": [
       "<matplotlib.figure.Figure at 0x2686a42e710>"
      ]
     },
     "metadata": {},
     "output_type": "display_data"
    },
    {
     "data": {
      "image/png": "[encoded data removed]",
      "text/plain": [
       "<matplotlib.figure.Figure at 0x2686affbe80>"
      ]
     },
     "metadata": {},
     "output_type": "display_data"
    }
   ],
   "source": [
    "allDfs = [prior_plot, likelihood_plot, posterior_plot]\n",
    "fig, axes = plt.subplots(nrows=1, ncols=3, figsize=(18,8))\n",
    "titles = ['Prior', 'Likelihood', 'Posterior']\n",
    "for i,title in enumerate(titles):\n",
    "    allDfs[i].plot(kind='barh', legend=False, color='b', ax=axes[i])\n",
    "    axes[i].set_title(title)\n",
    "    axes[i].set_xlabel('Probability')\n",
    "\n",
    "    \n",
    "fig2, axes2 = plt.subplots(nrows=1, ncols=1, figsize=(18,3))\n",
    "posterior_predictive_plot.plot(kind='bar', legend=False, color='b', ax=axes2, )\n",
    "axes2.set_title('Posterior Predictive')\n",
    "axes2.set_xlabel('Number')\n",
    "axes2.set_ylabel('Probability')"
   ]
  },
  {
   "cell_type": "code",
   "execution_count": null,
   "metadata": {
    "collapsed": true
   },
   "outputs": [],
   "source": []
  }
 ],
 "metadata": {
  "kernelspec": {
   "display_name": "Python 3",
   "language": "python",
   "name": "python3"
  },
  "language_info": {
   "codemirror_mode": {
    "name": "ipython",
    "version": 3
   },
   "file_extension": ".py",
   "mimetype": "text/x-python",
   "name": "python",
   "nbconvert_exporter": "python",
   "pygments_lexer": "ipython3",
   "version": "3.5.1"
  }
 },
 "nbformat": 4,
 "nbformat_minor": 0
}
