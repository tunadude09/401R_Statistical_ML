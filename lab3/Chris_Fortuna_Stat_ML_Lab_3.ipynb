{
 "cells": [
  {
   "cell_type": "code",
   "execution_count": 1,
   "metadata": {
    "collapsed": false
   },
   "outputs": [
    {
     "name": "stdout",
     "output_type": "stream",
     "text": [
      "Populating the interactive namespace from numpy and matplotlib\n"
     ]
    },
    {
     "name": "stderr",
     "output_type": "stream",
     "text": [
      "C:\\Anaconda3\\lib\\site-packages\\matplotlib\\__init__.py:872: UserWarning: axes.color_cycle is deprecated and replaced with axes.prop_cycle; please use the latter.\n",
      "  warnings.warn(self.msg_depr % (key, alt_key))\n"
     ]
    }
   ],
   "source": [
    "import numpy as np\n",
    "import scipy as scp\n",
    "import scipy.io\n",
    "import matplotlib.pyplot as plt\n",
    "import pandas as pd\n",
    "import seaborn as sns\n",
    "import time\n",
    "\n",
    "%matplotlib inline\n",
    "%pylab inline\n",
    "pylab.rcParams['figure.figsize'] = (16.0, 8.0)"
   ]
  },
  {
   "cell_type": "code",
   "execution_count": 2,
   "metadata": {
    "collapsed": false
   },
   "outputs": [
    {
     "data": {
      "application/json": {
       "cell": {
        "!": "OSMagics",
        "HTML": "Other",
        "SVG": "Other",
        "bash": "Other",
        "capture": "ExecutionMagics",
        "cmd": "Other",
        "debug": "ExecutionMagics",
        "file": "Other",
        "html": "DisplayMagics",
        "javascript": "DisplayMagics",
        "latex": "DisplayMagics",
        "perl": "Other",
        "prun": "ExecutionMagics",
        "pypy": "Other",
        "python": "Other",
        "python2": "Other",
        "python3": "Other",
        "ruby": "Other",
        "script": "ScriptMagics",
        "sh": "Other",
        "svg": "DisplayMagics",
        "sx": "OSMagics",
        "system": "OSMagics",
        "time": "ExecutionMagics",
        "timeit": "ExecutionMagics",
        "writefile": "OSMagics"
       },
       "line": {
        "alias": "OSMagics",
        "alias_magic": "BasicMagics",
        "autocall": "AutoMagics",
        "automagic": "AutoMagics",
        "autosave": "KernelMagics",
        "bookmark": "OSMagics",
        "cd": "OSMagics",
        "clear": "KernelMagics",
        "cls": "KernelMagics",
        "colors": "BasicMagics",
        "config": "ConfigMagics",
        "connect_info": "KernelMagics",
        "copy": "Other",
        "ddir": "Other",
        "debug": "ExecutionMagics",
        "dhist": "OSMagics",
        "dirs": "OSMagics",
        "doctest_mode": "BasicMagics",
        "echo": "Other",
        "ed": "Other",
        "edit": "KernelMagics",
        "env": "OSMagics",
        "gui": "BasicMagics",
        "hist": "Other",
        "history": "HistoryMagics",
        "install_default_config": "DeprecatedMagics",
        "install_ext": "ExtensionMagics",
        "install_profiles": "DeprecatedMagics",
        "killbgscripts": "ScriptMagics",
        "ldir": "Other",
        "less": "KernelMagics",
        "load": "CodeMagics",
        "load_ext": "ExtensionMagics",
        "loadpy": "CodeMagics",
        "logoff": "LoggingMagics",
        "logon": "LoggingMagics",
        "logstart": "LoggingMagics",
        "logstate": "LoggingMagics",
        "logstop": "LoggingMagics",
        "lprun": "UserMagics",
        "ls": "Other",
        "lsmagic": "BasicMagics",
        "macro": "ExecutionMagics",
        "magic": "BasicMagics",
        "matplotlib": "PylabMagics",
        "mkdir": "Other",
        "more": "KernelMagics",
        "notebook": "BasicMagics",
        "page": "BasicMagics",
        "pastebin": "CodeMagics",
        "pdb": "ExecutionMagics",
        "pdef": "NamespaceMagics",
        "pdoc": "NamespaceMagics",
        "pfile": "NamespaceMagics",
        "pinfo": "NamespaceMagics",
        "pinfo2": "NamespaceMagics",
        "popd": "OSMagics",
        "pprint": "BasicMagics",
        "precision": "BasicMagics",
        "profile": "BasicMagics",
        "prun": "ExecutionMagics",
        "psearch": "NamespaceMagics",
        "psource": "NamespaceMagics",
        "pushd": "OSMagics",
        "pwd": "OSMagics",
        "pycat": "OSMagics",
        "pylab": "PylabMagics",
        "qtconsole": "KernelMagics",
        "quickref": "BasicMagics",
        "recall": "HistoryMagics",
        "rehashx": "OSMagics",
        "reload_ext": "ExtensionMagics",
        "ren": "Other",
        "rep": "Other",
        "rerun": "HistoryMagics",
        "reset": "NamespaceMagics",
        "reset_selective": "NamespaceMagics",
        "rmdir": "Other",
        "run": "ExecutionMagics",
        "save": "CodeMagics",
        "sc": "OSMagics",
        "set_env": "OSMagics",
        "store": "StoreMagics",
        "sx": "OSMagics",
        "system": "OSMagics",
        "tb": "ExecutionMagics",
        "time": "ExecutionMagics",
        "timeit": "ExecutionMagics",
        "unalias": "OSMagics",
        "unload_ext": "ExtensionMagics",
        "who": "NamespaceMagics",
        "who_ls": "NamespaceMagics",
        "whos": "NamespaceMagics",
        "xdel": "NamespaceMagics",
        "xmode": "BasicMagics"
       }
      },
      "text/plain": [
       "Available line magics:\n",
       "%alias  %alias_magic  %autocall  %automagic  %autosave  %bookmark  %cd  %clear  %cls  %colors  %config  %connect_info  %copy  %ddir  %debug  %dhist  %dirs  %doctest_mode  %echo  %ed  %edit  %env  %gui  %hist  %history  %install_default_config  %install_ext  %install_profiles  %killbgscripts  %ldir  %less  %load  %load_ext  %loadpy  %logoff  %logon  %logstart  %logstate  %logstop  %lprun  %ls  %lsmagic  %macro  %magic  %matplotlib  %mkdir  %more  %notebook  %page  %pastebin  %pdb  %pdef  %pdoc  %pfile  %pinfo  %pinfo2  %popd  %pprint  %precision  %profile  %prun  %psearch  %psource  %pushd  %pwd  %pycat  %pylab  %qtconsole  %quickref  %recall  %rehashx  %reload_ext  %ren  %rep  %rerun  %reset  %reset_selective  %rmdir  %run  %save  %sc  %set_env  %store  %sx  %system  %tb  %time  %timeit  %unalias  %unload_ext  %who  %who_ls  %whos  %xdel  %xmode\n",
       "\n",
       "Available cell magics:\n",
       "%%!  %%HTML  %%SVG  %%bash  %%capture  %%cmd  %%debug  %%file  %%html  %%javascript  %%latex  %%perl  %%prun  %%pypy  %%python  %%python2  %%python3  %%ruby  %%script  %%sh  %%svg  %%sx  %%system  %%time  %%timeit  %%writefile\n",
       "\n",
       "Automagic is ON, % prefix IS NOT needed for line magics."
      ]
     },
     "execution_count": 2,
     "metadata": {},
     "output_type": "execute_result"
    }
   ],
   "source": [
    "%load_ext line_profiler\n",
    "%lsmagic"
   ]
  },
  {
   "cell_type": "code",
   "execution_count": 3,
   "metadata": {
    "collapsed": false
   },
   "outputs": [],
   "source": [
    "train_mat = scipy.io.loadmat('mnist_train.mat')\n",
    "train_data = train_mat['images'].T\n",
    "train_labels = train_mat['labels']\n",
    "\n",
    "test_mat = scipy.io.loadmat('mnist_test.mat')\n",
    "test_data = test_mat['t10k_images']\n",
    "test_labels = test_mat['t10k_labels']"
   ]
  },
  {
   "cell_type": "code",
   "execution_count": 14,
   "metadata": {
    "collapsed": false
   },
   "outputs": [],
   "source": [
    "\n",
    "\n",
    "test_kag = pd.read_csv('KaggleData/test.csv')\n"
   ]
  },
  {
   "cell_type": "code",
   "execution_count": 15,
   "metadata": {
    "collapsed": false
   },
   "outputs": [
    {
     "data": {
      "text/html": [
       "<div>\n",
       "<table border=\"1\" class=\"dataframe\">\n",
       "  <thead>\n",
       "    <tr style=\"text-align: right;\">\n",
       "      <th></th>\n",
       "      <th>pixel0</th>\n",
       "      <th>pixel1</th>\n",
       "      <th>pixel2</th>\n",
       "      <th>pixel3</th>\n",
       "      <th>pixel4</th>\n",
       "      <th>pixel5</th>\n",
       "      <th>pixel6</th>\n",
       "      <th>pixel7</th>\n",
       "      <th>pixel8</th>\n",
       "      <th>pixel9</th>\n",
       "      <th>...</th>\n",
       "      <th>pixel774</th>\n",
       "      <th>pixel775</th>\n",
       "      <th>pixel776</th>\n",
       "      <th>pixel777</th>\n",
       "      <th>pixel778</th>\n",
       "      <th>pixel779</th>\n",
       "      <th>pixel780</th>\n",
       "      <th>pixel781</th>\n",
       "      <th>pixel782</th>\n",
       "      <th>pixel783</th>\n",
       "    </tr>\n",
       "  </thead>\n",
       "  <tbody>\n",
       "    <tr>\n",
       "      <th>0</th>\n",
       "      <td>0</td>\n",
       "      <td>0</td>\n",
       "      <td>0</td>\n",
       "      <td>0</td>\n",
       "      <td>0</td>\n",
       "      <td>0</td>\n",
       "      <td>0</td>\n",
       "      <td>0</td>\n",
       "      <td>0</td>\n",
       "      <td>0</td>\n",
       "      <td>...</td>\n",
       "      <td>0</td>\n",
       "      <td>0</td>\n",
       "      <td>0</td>\n",
       "      <td>0</td>\n",
       "      <td>0</td>\n",
       "      <td>0</td>\n",
       "      <td>0</td>\n",
       "      <td>0</td>\n",
       "      <td>0</td>\n",
       "      <td>0</td>\n",
       "    </tr>\n",
       "  </tbody>\n",
       "</table>\n",
       "<p>1 rows × 784 columns</p>\n",
       "</div>"
      ],
      "text/plain": [
       "   pixel0  pixel1  pixel2  pixel3  pixel4  pixel5  pixel6  pixel7  pixel8  \\\n",
       "0       0       0       0       0       0       0       0       0       0   \n",
       "\n",
       "   pixel9    ...     pixel774  pixel775  pixel776  pixel777  pixel778  \\\n",
       "0       0    ...            0         0         0         0         0   \n",
       "\n",
       "   pixel779  pixel780  pixel781  pixel782  pixel783  \n",
       "0         0         0         0         0         0  \n",
       "\n",
       "[1 rows x 784 columns]"
      ]
     },
     "execution_count": 15,
     "metadata": {},
     "output_type": "execute_result"
    }
   ],
   "source": [
    "test_kag.iloc[:1,:]"
   ]
  },
  {
   "cell_type": "code",
   "execution_count": 16,
   "metadata": {
    "collapsed": false
   },
   "outputs": [
    {
     "data": {
      "text/plain": [
       "(28000, 784)"
      ]
     },
     "execution_count": 16,
     "metadata": {},
     "output_type": "execute_result"
    }
   ],
   "source": [
    "test_kag.shape"
   ]
  },
  {
   "cell_type": "code",
   "execution_count": 6,
   "metadata": {
    "collapsed": false
   },
   "outputs": [],
   "source": [
    "'''Simply calculates the means of the given test data for each class, then calculates the guassian probability of each\n",
    "passed test example against each possible class (0-10) in order to classify the one with the highest probability'''\n",
    "class simple_classifier():\n",
    "    def __init__(self, train_data, train_labels, test_data, test_labels, test_kaggle):\n",
    "        self.train_data = train_data\n",
    "        self.train_labels = train_labels\n",
    "        self.test_data = test_data\n",
    "        self.test_labels = test_labels\n",
    "        self.test_kaggle = test_kaggle\n",
    "        self.means = list()\n",
    "        \n",
    "           \n",
    "    def get_test_data(self):\n",
    "        return self.test_data\n",
    "    \n",
    "    def get_test_labels(self):\n",
    "        return self.test_labels\n",
    "        \n",
    "              \n",
    "    \n",
    "        \n",
    "    def train(self):\n",
    "        #  goes through every possible class\n",
    "        for i in range(10):\n",
    "            #  finds the list of label indexes in the training data which match the class of the interation\n",
    "            number_i_indexes = np.where(train_labels == i)[0]\n",
    "            #  then finds all correponding training data for the class, calculates the means of each pixel, the appends\n",
    "            #  this mean image to the list of mean imgages for each class\n",
    "            self.means.append(train_data[number_i_indexes].mean(axis=0))\n",
    "            \n",
    "            \n",
    "    def classify(self, test_instance):\n",
    "        highest_prob = float('-inf')\n",
    "        highest_prob_index = -1\n",
    "        \n",
    "        for i, mean in enumerate(self.means):   \n",
    "#             print(\"test_instance: \", test_instance)\n",
    "#             print(\"mean: \", mean)\n",
    "            prob = self.guassianProbability(test_instance,mean)\n",
    "#             print(\"prob\", prob)\n",
    "            if prob > highest_prob:\n",
    "                highest_prob = prob\n",
    "                highest_prob_index = i\n",
    "        \n",
    "        return highest_prob_index\n",
    "    \n",
    "    \n",
    "    \n",
    "    def evaluate_model(self, num_of_instances_to_test):\n",
    "        confusion_matrix = pd.DataFrame(np.zeros((10,10)))\n",
    "        \n",
    "        i = 0\n",
    "        last_time = 0\n",
    "        this_time = 0\n",
    "        for test_instance, target_label in zip(test_data.T, test_labels):\n",
    "            predicted_label = self.classify(test_instance)\n",
    "    \n",
    "#             print(\"predicted\", predicted_label)\n",
    "#             print(\"target\", target_label)\n",
    "#             print(\"highest prob: \", highest_prob)\n",
    "            \n",
    "            confusion_matrix.at[int(predicted_label),int(target_label)] += 1\n",
    "            i += 1\n",
    "            this_time = time.clo\n",
    "            print(\"%d / %d  Time Remaining: \" % (i, num_of_instances_to_test, ), end=\"\\r\")\n",
    "            if i > num_of_instances_to_test:\n",
    "                break\n",
    "        \n",
    "        total_incorrect = 0\n",
    "        for i in range(len(confusion_matrix)):\n",
    "            for j in range(len(confusion_matrix)):\n",
    "                if i == j:\n",
    "                    continue\n",
    "                else:\n",
    "                    total_incorrect += confusion_matrix.at[i,j]\n",
    "                    \n",
    "        print(\"Error Rate: \", (total_incorrect / len(test_labels)) * 100.0, \"%\")\n",
    "        sns.heatmap(confusion_matrix)\n",
    "        \n",
    "        \n",
    "        \n",
    "        \n",
    "    def output_kaggle_results(self):\n",
    "        confusion_matrix = pd.DataFrame(np.zeros((10,10)))\n",
    "        \n",
    "        num_of_instances_to_test = len(self.test_kaggle)\n",
    "        \n",
    "        results = []\n",
    "        \n",
    "        i = 0\n",
    "        last_time = 0\n",
    "        this_time = 0\n",
    "        for test_instance in self.test_kaggle.T:\n",
    "            predicted_label = self.classify(test_instance)\n",
    "    \n",
    "#             print(\"predicted\", predicted_label)\n",
    "#             print(\"target\", target_label)\n",
    "#             print(\"highest prob: \", highest_prob)\n",
    "            \n",
    "            results.append(predicted_label)\n",
    "\n",
    "            i += 1\n",
    "#             this_time = time.clo\n",
    "            print(\"%d / %d  Time Remaining: \" % (i, num_of_instances_to_test, ), end=\"\\r\")\n",
    "            if i > num_of_instances_to_test:\n",
    "                break\n",
    "                \n",
    "        return results\n",
    "        \n",
    "\n",
    "    \n",
    "    \"\"\"This calculates the guassian prob for a value as compared to it's mean. It's follows the equation\n",
    "    p(x|D)=e^(-0.5 * (x-xi) * (x-xi).T)\n",
    "    This happens in log space\"\"\"\n",
    "    def guassianProbability(self, x, xi):\n",
    "#         print(shape(x))\n",
    "#         print(\"x: \", x)\n",
    "#         print(shape(xi))\n",
    "#         print(\"xi: \", xi)\n",
    "        x_diff = x - xi\n",
    "#         print('x_diff: ', x_diff)\n",
    "#         print('dot product', dot_product)\n",
    "        return -0.5 * np.dot(x_diff, x_diff.T)\n",
    "#         return (-0.5) * x_diff * x_diff.T * math.log(math.e)\n",
    "    \n",
    "    \n",
    "    def printImageForEveryClass(self):\n",
    "        fig, axes = plt.subplots(1,10)       \n",
    "        for i,img in enumerate(self.means):\n",
    "            axes[i].imshow(img.reshape(28,28).T, interpolation='nearest', cmap=matplotlib.cm.gray)\n",
    "\n",
    "    \n"
   ]
  },
  {
   "cell_type": "markdown",
   "metadata": {
    "collapsed": true
   },
   "source": [
    "# #1 Visualize Expected"
   ]
  },
  {
   "cell_type": "code",
   "execution_count": 11,
   "metadata": {
    "collapsed": false
   },
   "outputs": [
    {
     "name": "stdout",
     "output_type": "stream",
     "text": [
      "Wall time: 545 ms\n"
     ]
    },
    {
     "data": {
      "image/png": "[encoded data removed]",
      "text/plain": [
       "<matplotlib.figure.Figure at 0x1c0c4d41fd0>"
      ]
     },
     "metadata": {},
     "output_type": "display_data"
    }
   ],
   "source": [
    "%%time \n",
    "simple = simple_classifier(train_data, train_labels, test_data, test_labels)\n",
    "simple.train()\n",
    "simple.printImageForEveryClass()"
   ]
  },
  {
   "cell_type": "markdown",
   "metadata": {},
   "source": [
    "# #2 Simple Classifier\n"
   ]
  },
  {
   "cell_type": "code",
   "execution_count": 12,
   "metadata": {
    "collapsed": false,
    "scrolled": false
   },
   "outputs": [
    {
     "name": "stdout",
     "output_type": "stream",
     "text": [
      "Error Rate:  2.11 %\n",
      "Wall time: 256 ms\n"
     ]
    },
    {
     "data": {
      "image/png": "[encoded data removed]",
      "text/plain": [
       "<matplotlib.figure.Figure at 0x1c0e0aa5a90>"
      ]
     },
     "metadata": {},
     "output_type": "display_data"
    }
   ],
   "source": [
    "# %lprun -f simple.evaluate_model -f simple.classify -f simple.guassianProbability simple.evaluate_model(1000)\n",
    "%time simple.evaluate_model(1000)\n"
   ]
  },
  {
   "cell_type": "code",
   "execution_count": 7,
   "metadata": {
    "collapsed": true
   },
   "outputs": [],
   "source": [
    "%lprun?"
   ]
  },
  {
   "cell_type": "markdown",
   "metadata": {},
   "source": [
    "# #3 Full KDE"
   ]
  },
  {
   "cell_type": "code",
   "execution_count": 7,
   "metadata": {
    "collapsed": false
   },
   "outputs": [],
   "source": [
    "class full_kde_classifier(simple_classifier):\n",
    "    \"\"\"Finds the gaussian probability the test instance is related to each individual training instance, then adds the corresponding\n",
    "    probability to the training instance's class' total probability count. Whichever class has the highest probability sum\n",
    "    after all training instances are compared to the test instance is chosen as the classification\"\"\"   \n",
    "    def classify(self, test_instance):\n",
    "        total_class_probabilities =  [0] * 10\n",
    "        for train_instance, instance_label in zip(self.train_data, self.train_labels):\n",
    "            prob = self.guassianProbability(test_instance, train_instance)\n",
    "            total_class_probabilities[instance_label] += prob\n",
    "            \n",
    "        return np.argmax(total_class_probabilities)  #  this returns the index of the highest value, which is also the class\n",
    "\n",
    "#     def classify(self, test_instance):\n",
    "#         total_class_probabilities = [0] * 10\n",
    "#         for i, train_instance, train_instance_label in zip(train_data, train_labels):\n",
    "#             prob = self.guassianProbability(test_instance, train_instance)\n",
    "#             total_class_probabilities[train_labels[i]] += prob\n",
    "            \n",
    "#         return np.argmax(total_class_probabilities)  #  this returns the index of the highest value, which is also the class\n",
    "\n",
    " "
   ]
  },
  {
   "cell_type": "code",
   "execution_count": 17,
   "metadata": {
    "collapsed": false,
    "scrolled": true
   },
   "outputs": [
    {
     "name": "stdout",
     "output_type": "stream",
     "text": [
      "Wall time: 2 ms\n"
     ]
    }
   ],
   "source": [
    "%time %lprun -f full_kde_classifier.__init__  full_kde = full_kde_classifier(train_data, train_labels, test_data, test_labels, test_kag)\n"
   ]
  },
  {
   "cell_type": "code",
   "execution_count": null,
   "metadata": {
    "collapsed": false
   },
   "outputs": [],
   "source": [
    "%time %prun full_kde.evaluate_model(1000)"
   ]
  },
  {
   "cell_type": "code",
   "execution_count": 15,
   "metadata": {
    "collapsed": false
   },
   "outputs": [
    {
     "name": "stdout",
     "output_type": "stream",
     "text": [
      "Error Rate:  3.27 %\n"
     ]
    },
    {
     "name": "stderr",
     "output_type": "stream",
     "text": [
      "C:\\Anaconda3\\lib\\site-packages\\ipykernel\\__main__.py:9: DeprecationWarning: converting an array with ndim > 0 to an index will result in an error in the future\n"
     ]
    },
    {
     "data": {
      "image/png": "[encoded data removed]",
      "text/plain": [
       "<matplotlib.figure.Figure at 0x1c0e0877e80>"
      ]
     },
     "metadata": {},
     "output_type": "display_data"
    }
   ],
   "source": [
    "%lprun -f full_kde.evaluate_model -f full_kde.classify -f full_kde.guassianProbability full_kde.evaluate_model(1000)\n"
   ]
  },
  {
   "cell_type": "code",
   "execution_count": null,
   "metadata": {
    "collapsed": true
   },
   "outputs": [],
   "source": []
  },
  {
   "cell_type": "code",
   "execution_count": null,
   "metadata": {
    "collapsed": true
   },
   "outputs": [],
   "source": []
  },
  {
   "cell_type": "code",
   "execution_count": 18,
   "metadata": {
    "collapsed": false
   },
   "outputs": [
    {
     "name": "stdout",
     "output_type": "stream",
     "text": []
    },
    {
     "name": "stderr",
     "output_type": "stream",
     "text": [
      "C:\\Anaconda3\\lib\\site-packages\\ipykernel\\__main__.py:9: DeprecationWarning: converting an array with ndim > 0 to an index will result in an error in the future\n"
     ]
    }
   ],
   "source": [
    "results = full_kde.output_kaggle_results()"
   ]
  },
  {
   "cell_type": "code",
   "execution_count": 19,
   "metadata": {
    "collapsed": false
   },
   "outputs": [],
   "source": [
    "sfile = open( 'results_3.csv', 'w' )\n",
    "sfile.write( '\"ImageId\",\"Label\"\\n' )\n",
    "for i, classification in enumerate(results):\n",
    "    sfile.write( '%d,%d\\n' % ( i,classification) )  # add one for one-based indexing\n",
    "sfile.close()"
   ]
  },
  {
   "cell_type": "code",
   "execution_count": null,
   "metadata": {
    "collapsed": true
   },
   "outputs": [],
   "source": []
  },
  {
   "cell_type": "code",
   "execution_count": null,
   "metadata": {
    "collapsed": true
   },
   "outputs": [],
   "source": []
  },
  {
   "cell_type": "code",
   "execution_count": null,
   "metadata": {
    "collapsed": true
   },
   "outputs": [],
   "source": []
  },
  {
   "cell_type": "code",
   "execution_count": null,
   "metadata": {
    "collapsed": false
   },
   "outputs": [],
   "source": [
    "%time full_kde = full_kde_classifier(train_data, train_labels, test_data, test_labels)\n",
    "\n",
    "full_kde.find_outlier()"
   ]
  },
  {
   "cell_type": "code",
   "execution_count": null,
   "metadata": {
    "collapsed": true
   },
   "outputs": [],
   "source": []
  }
 ],
 "metadata": {
  "kernelspec": {
   "display_name": "Python 3",
   "language": "python",
   "name": "python3"
  },
  "language_info": {
   "codemirror_mode": {
    "name": "ipython",
    "version": 3
   },
   "file_extension": ".py",
   "mimetype": "text/x-python",
   "name": "python",
   "nbconvert_exporter": "python",
   "pygments_lexer": "ipython3",
   "version": "3.6.0"
  }
 },
 "nbformat": 4,
 "nbformat_minor": 0
}
